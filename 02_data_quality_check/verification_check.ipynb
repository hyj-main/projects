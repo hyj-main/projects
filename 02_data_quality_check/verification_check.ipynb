{
 "cells": [
  {
   "cell_type": "code",
   "execution_count": 4,
   "metadata": {},
   "outputs": [],
   "source": [
    "import pathlib\n",
    "import pandas as pd\n",
    "import numpy as np\n",
    "import yaml\n",
    "import os\n",
    "\n",
    "import plotly.express as px\n",
    "import plotly.graph_objects as go\n",
    "\n"
   ]
  },
  {
   "cell_type": "markdown",
   "metadata": {},
   "source": [
    "###\t데이터 정합성 체크\n",
    "#####\t1. Data type, non-null count check (주의: int 여도 사실상 categorical data 일 수 있음)"
   ]
  },
  {
   "cell_type": "code",
   "execution_count": 6,
   "metadata": {},
   "outputs": [
    {
     "name": "stdout",
     "output_type": "stream",
     "text": [
      "<class 'pandas.core.frame.DataFrame'>\n",
      "RangeIndex: 10 entries, 0 to 9\n",
      "Data columns (total 48 columns):\n",
      " #   Column           Non-Null Count  Dtype  \n",
      "---  ------           --------------  -----  \n",
      " 0   plate_name       10 non-null     object \n",
      " 1   device           10 non-null     object \n",
      " 2   consumable_name  10 non-null     object \n",
      " 3   is_sample        10 non-null     object \n",
      " 4   well             10 non-null     object \n",
      " 5   channel          10 non-null     object \n",
      " 6   temperature      10 non-null     object \n",
      " 7   sequence         10 non-null     object \n",
      " 8   variable1        10 non-null     int64  \n",
      " 9   variable2        10 non-null     int64  \n",
      " 10  variable3        10 non-null     int64  \n",
      " 11  variable4        10 non-null     int64  \n",
      " 12  variable5        10 non-null     int64  \n",
      " 13  variable6        10 non-null     int64  \n",
      " 14  variable7        10 non-null     float64\n",
      " 15  variable8        10 non-null     int64  \n",
      " 16  variable9        10 non-null     int64  \n",
      " 17  variable10       10 non-null     float64\n",
      " 18  variable11       10 non-null     object \n",
      " 19  variable12       10 non-null     object \n",
      " 20  variable13       10 non-null     object \n",
      " 21  variable14       10 non-null     float64\n",
      " 22  variable15       10 non-null     int64  \n",
      " 23  variable16       10 non-null     object \n",
      " 24  variable17       10 non-null     float64\n",
      " 25  variable18       10 non-null     int64  \n",
      " 26  variable19       10 non-null     object \n",
      " 27  variable20       10 non-null     object \n",
      " 28  variable21       10 non-null     float64\n",
      " 29  variable22       10 non-null     float64\n",
      " 30  variable23       10 non-null     float64\n",
      " 31  variable24       10 non-null     float64\n",
      " 32  variable25       10 non-null     int64  \n",
      " 33  variable26       10 non-null     int64  \n",
      " 34  variable27       10 non-null     float64\n",
      " 35  variable28       10 non-null     int64  \n",
      " 36  variable29       10 non-null     int64  \n",
      " 37  variable30       10 non-null     int64  \n",
      " 38  variable31       10 non-null     int64  \n",
      " 39  variable32       10 non-null     int64  \n",
      " 40  variable33       10 non-null     int64  \n",
      " 41  variable34       10 non-null     float64\n",
      " 42  variable35       10 non-null     float64\n",
      " 43  variable36       10 non-null     float64\n",
      " 44  variable37       10 non-null     float64\n",
      " 45  variable38       10 non-null     float64\n",
      " 46  variable39       10 non-null     float64\n",
      " 47  variable40       10 non-null     float64\n",
      "dtypes: float64(16), int64(18), object(14)\n",
      "memory usage: 3.9+ KB\n"
     ]
    }
   ],
   "source": [
    "df = pd.read_csv(r'C:\\Users\\whyyo\\Downloads\\git_link\\02_pydsp_tutorial\\result_df_head10.csv')\n",
    "df.info()"
   ]
  },
  {
   "cell_type": "code",
   "execution_count": 8,
   "metadata": {},
   "outputs": [],
   "source": [
    "# treanspose df\n",
    "\n",
    "result_df_1 = df.head(1).T"
   ]
  },
  {
   "cell_type": "code",
   "execution_count": 9,
   "metadata": {},
   "outputs": [],
   "source": [
    "df_info = {\n",
    "    'column': df.columns,\n",
    "    'Non-Null': df.count(),\n",
    "    'Dtype': df.dtypes,\n",
    "    # 'value_sample': df.head(1).T\n",
    "}"
   ]
  },
  {
   "cell_type": "code",
   "execution_count": 10,
   "metadata": {},
   "outputs": [
    {
     "data": {
      "text/html": [
       "<div>\n",
       "<style scoped>\n",
       "    .dataframe tbody tr th:only-of-type {\n",
       "        vertical-align: middle;\n",
       "    }\n",
       "\n",
       "    .dataframe tbody tr th {\n",
       "        vertical-align: top;\n",
       "    }\n",
       "\n",
       "    .dataframe thead th {\n",
       "        text-align: right;\n",
       "    }\n",
       "</style>\n",
       "<table border=\"1\" class=\"dataframe\">\n",
       "  <thead>\n",
       "    <tr style=\"text-align: right;\">\n",
       "      <th></th>\n",
       "      <th>column</th>\n",
       "      <th>Non-Null</th>\n",
       "      <th>Dtype</th>\n",
       "      <th>0</th>\n",
       "    </tr>\n",
       "  </thead>\n",
       "  <tbody>\n",
       "    <tr>\n",
       "      <th>plate_name</th>\n",
       "      <td>plate_name</td>\n",
       "      <td>10</td>\n",
       "      <td>object</td>\n",
       "      <td>plate1</td>\n",
       "    </tr>\n",
       "    <tr>\n",
       "      <th>device</th>\n",
       "      <td>device</td>\n",
       "      <td>10</td>\n",
       "      <td>object</td>\n",
       "      <td>device1</td>\n",
       "    </tr>\n",
       "    <tr>\n",
       "      <th>consumable_name</th>\n",
       "      <td>consumable_name</td>\n",
       "      <td>10</td>\n",
       "      <td>object</td>\n",
       "      <td>consumable1</td>\n",
       "    </tr>\n",
       "    <tr>\n",
       "      <th>is_sample</th>\n",
       "      <td>is_sample</td>\n",
       "      <td>10</td>\n",
       "      <td>object</td>\n",
       "      <td>Sample</td>\n",
       "    </tr>\n",
       "    <tr>\n",
       "      <th>well</th>\n",
       "      <td>well</td>\n",
       "      <td>10</td>\n",
       "      <td>object</td>\n",
       "      <td>A01</td>\n",
       "    </tr>\n",
       "    <tr>\n",
       "      <th>channel</th>\n",
       "      <td>channel</td>\n",
       "      <td>10</td>\n",
       "      <td>object</td>\n",
       "      <td>channel_1</td>\n",
       "    </tr>\n",
       "    <tr>\n",
       "      <th>temperature</th>\n",
       "      <td>temperature</td>\n",
       "      <td>10</td>\n",
       "      <td>object</td>\n",
       "      <td>Low</td>\n",
       "    </tr>\n",
       "    <tr>\n",
       "      <th>sequence</th>\n",
       "      <td>sequence</td>\n",
       "      <td>10</td>\n",
       "      <td>object</td>\n",
       "      <td>[6004.03532629 5969.00735142 5943.7098278  593...</td>\n",
       "    </tr>\n",
       "    <tr>\n",
       "      <th>variable1</th>\n",
       "      <td>variable1</td>\n",
       "      <td>10</td>\n",
       "      <td>int64</td>\n",
       "      <td>0</td>\n",
       "    </tr>\n",
       "    <tr>\n",
       "      <th>variable2</th>\n",
       "      <td>variable2</td>\n",
       "      <td>10</td>\n",
       "      <td>int64</td>\n",
       "      <td>0</td>\n",
       "    </tr>\n",
       "    <tr>\n",
       "      <th>variable3</th>\n",
       "      <td>variable3</td>\n",
       "      <td>10</td>\n",
       "      <td>int64</td>\n",
       "      <td>1</td>\n",
       "    </tr>\n",
       "    <tr>\n",
       "      <th>variable4</th>\n",
       "      <td>variable4</td>\n",
       "      <td>10</td>\n",
       "      <td>int64</td>\n",
       "      <td>140</td>\n",
       "    </tr>\n",
       "    <tr>\n",
       "      <th>variable5</th>\n",
       "      <td>variable5</td>\n",
       "      <td>10</td>\n",
       "      <td>int64</td>\n",
       "      <td>0</td>\n",
       "    </tr>\n",
       "    <tr>\n",
       "      <th>variable6</th>\n",
       "      <td>variable6</td>\n",
       "      <td>10</td>\n",
       "      <td>int64</td>\n",
       "      <td>0</td>\n",
       "    </tr>\n",
       "    <tr>\n",
       "      <th>variable7</th>\n",
       "      <td>variable7</td>\n",
       "      <td>10</td>\n",
       "      <td>float64</td>\n",
       "      <td>1391.168647</td>\n",
       "    </tr>\n",
       "    <tr>\n",
       "      <th>variable8</th>\n",
       "      <td>variable8</td>\n",
       "      <td>10</td>\n",
       "      <td>int64</td>\n",
       "      <td>0</td>\n",
       "    </tr>\n",
       "    <tr>\n",
       "      <th>variable9</th>\n",
       "      <td>variable9</td>\n",
       "      <td>10</td>\n",
       "      <td>int64</td>\n",
       "      <td>0</td>\n",
       "    </tr>\n",
       "    <tr>\n",
       "      <th>variable10</th>\n",
       "      <td>variable10</td>\n",
       "      <td>10</td>\n",
       "      <td>float64</td>\n",
       "      <td>0.155714</td>\n",
       "    </tr>\n",
       "    <tr>\n",
       "      <th>variable11</th>\n",
       "      <td>variable11</td>\n",
       "      <td>10</td>\n",
       "      <td>object</td>\n",
       "      <td>[0. 0. 0. 0. 0. 0. 0. 0. 0. 0. 0. 0. 0. 0. 0. ...</td>\n",
       "    </tr>\n",
       "    <tr>\n",
       "      <th>variable12</th>\n",
       "      <td>variable12</td>\n",
       "      <td>10</td>\n",
       "      <td>object</td>\n",
       "      <td>[]</td>\n",
       "    </tr>\n",
       "    <tr>\n",
       "      <th>variable13</th>\n",
       "      <td>variable13</td>\n",
       "      <td>10</td>\n",
       "      <td>object</td>\n",
       "      <td>[-7.58876299e-04 -9.19821705e+02]</td>\n",
       "    </tr>\n",
       "    <tr>\n",
       "      <th>variable14</th>\n",
       "      <td>variable14</td>\n",
       "      <td>10</td>\n",
       "      <td>float64</td>\n",
       "      <td>0.999874</td>\n",
       "    </tr>\n",
       "    <tr>\n",
       "      <th>variable15</th>\n",
       "      <td>variable15</td>\n",
       "      <td>10</td>\n",
       "      <td>int64</td>\n",
       "      <td>20</td>\n",
       "    </tr>\n",
       "    <tr>\n",
       "      <th>variable16</th>\n",
       "      <td>variable16</td>\n",
       "      <td>10</td>\n",
       "      <td>object</td>\n",
       "      <td>[0. 0. 0. 0. 0. 0. 0. 0. 0. 0. 0. 0. 0. 0. 0. ...</td>\n",
       "    </tr>\n",
       "    <tr>\n",
       "      <th>variable17</th>\n",
       "      <td>variable17</td>\n",
       "      <td>10</td>\n",
       "      <td>float64</td>\n",
       "      <td>-8.473248</td>\n",
       "    </tr>\n",
       "    <tr>\n",
       "      <th>variable18</th>\n",
       "      <td>variable18</td>\n",
       "      <td>10</td>\n",
       "      <td>int64</td>\n",
       "      <td>0</td>\n",
       "    </tr>\n",
       "    <tr>\n",
       "      <th>variable19</th>\n",
       "      <td>variable19</td>\n",
       "      <td>10</td>\n",
       "      <td>object</td>\n",
       "      <td>[-8.47456333e+00  1.35908774e+03  2.79879802e+...</td>\n",
       "    </tr>\n",
       "    <tr>\n",
       "      <th>variable20</th>\n",
       "      <td>variable20</td>\n",
       "      <td>10</td>\n",
       "      <td>object</td>\n",
       "      <td>[0. 0. 0. 0.]</td>\n",
       "    </tr>\n",
       "    <tr>\n",
       "      <th>variable21</th>\n",
       "      <td>variable21</td>\n",
       "      <td>10</td>\n",
       "      <td>float64</td>\n",
       "      <td>0.999863</td>\n",
       "    </tr>\n",
       "    <tr>\n",
       "      <th>variable22</th>\n",
       "      <td>variable22</td>\n",
       "      <td>10</td>\n",
       "      <td>float64</td>\n",
       "      <td>1367.340612</td>\n",
       "    </tr>\n",
       "    <tr>\n",
       "      <th>variable23</th>\n",
       "      <td>variable23</td>\n",
       "      <td>10</td>\n",
       "      <td>float64</td>\n",
       "      <td>175.506228</td>\n",
       "    </tr>\n",
       "    <tr>\n",
       "      <th>variable24</th>\n",
       "      <td>variable24</td>\n",
       "      <td>10</td>\n",
       "      <td>float64</td>\n",
       "      <td>23.758599</td>\n",
       "    </tr>\n",
       "    <tr>\n",
       "      <th>variable25</th>\n",
       "      <td>variable25</td>\n",
       "      <td>10</td>\n",
       "      <td>int64</td>\n",
       "      <td>0</td>\n",
       "    </tr>\n",
       "    <tr>\n",
       "      <th>variable26</th>\n",
       "      <td>variable26</td>\n",
       "      <td>10</td>\n",
       "      <td>int64</td>\n",
       "      <td>0</td>\n",
       "    </tr>\n",
       "    <tr>\n",
       "      <th>variable27</th>\n",
       "      <td>variable27</td>\n",
       "      <td>10</td>\n",
       "      <td>float64</td>\n",
       "      <td>23.758599</td>\n",
       "    </tr>\n",
       "    <tr>\n",
       "      <th>variable28</th>\n",
       "      <td>variable28</td>\n",
       "      <td>10</td>\n",
       "      <td>int64</td>\n",
       "      <td>0</td>\n",
       "    </tr>\n",
       "    <tr>\n",
       "      <th>variable29</th>\n",
       "      <td>variable29</td>\n",
       "      <td>10</td>\n",
       "      <td>int64</td>\n",
       "      <td>0</td>\n",
       "    </tr>\n",
       "    <tr>\n",
       "      <th>variable30</th>\n",
       "      <td>variable30</td>\n",
       "      <td>10</td>\n",
       "      <td>int64</td>\n",
       "      <td>0</td>\n",
       "    </tr>\n",
       "    <tr>\n",
       "      <th>variable31</th>\n",
       "      <td>variable31</td>\n",
       "      <td>10</td>\n",
       "      <td>int64</td>\n",
       "      <td>0</td>\n",
       "    </tr>\n",
       "    <tr>\n",
       "      <th>variable32</th>\n",
       "      <td>variable32</td>\n",
       "      <td>10</td>\n",
       "      <td>int64</td>\n",
       "      <td>0</td>\n",
       "    </tr>\n",
       "    <tr>\n",
       "      <th>variable33</th>\n",
       "      <td>variable33</td>\n",
       "      <td>10</td>\n",
       "      <td>int64</td>\n",
       "      <td>0</td>\n",
       "    </tr>\n",
       "    <tr>\n",
       "      <th>variable34</th>\n",
       "      <td>variable34</td>\n",
       "      <td>10</td>\n",
       "      <td>float64</td>\n",
       "      <td>23.758599</td>\n",
       "    </tr>\n",
       "    <tr>\n",
       "      <th>variable35</th>\n",
       "      <td>variable35</td>\n",
       "      <td>10</td>\n",
       "      <td>float64</td>\n",
       "      <td>-8.474563</td>\n",
       "    </tr>\n",
       "    <tr>\n",
       "      <th>variable36</th>\n",
       "      <td>variable36</td>\n",
       "      <td>10</td>\n",
       "      <td>float64</td>\n",
       "      <td>1359.087742</td>\n",
       "    </tr>\n",
       "    <tr>\n",
       "      <th>variable37</th>\n",
       "      <td>variable37</td>\n",
       "      <td>10</td>\n",
       "      <td>float64</td>\n",
       "      <td>27.98798</td>\n",
       "    </tr>\n",
       "    <tr>\n",
       "      <th>variable38</th>\n",
       "      <td>variable38</td>\n",
       "      <td>10</td>\n",
       "      <td>float64</td>\n",
       "      <td>0.222943</td>\n",
       "    </tr>\n",
       "    <tr>\n",
       "      <th>variable39</th>\n",
       "      <td>variable39</td>\n",
       "      <td>10</td>\n",
       "      <td>float64</td>\n",
       "      <td>-0.000759</td>\n",
       "    </tr>\n",
       "    <tr>\n",
       "      <th>variable40</th>\n",
       "      <td>variable40</td>\n",
       "      <td>10</td>\n",
       "      <td>float64</td>\n",
       "      <td>-919.821705</td>\n",
       "    </tr>\n",
       "  </tbody>\n",
       "</table>\n",
       "</div>"
      ],
      "text/plain": [
       "                          column  Non-Null    Dtype  \\\n",
       "plate_name            plate_name        10   object   \n",
       "device                    device        10   object   \n",
       "consumable_name  consumable_name        10   object   \n",
       "is_sample              is_sample        10   object   \n",
       "well                        well        10   object   \n",
       "channel                  channel        10   object   \n",
       "temperature          temperature        10   object   \n",
       "sequence                sequence        10   object   \n",
       "variable1              variable1        10    int64   \n",
       "variable2              variable2        10    int64   \n",
       "variable3              variable3        10    int64   \n",
       "variable4              variable4        10    int64   \n",
       "variable5              variable5        10    int64   \n",
       "variable6              variable6        10    int64   \n",
       "variable7              variable7        10  float64   \n",
       "variable8              variable8        10    int64   \n",
       "variable9              variable9        10    int64   \n",
       "variable10            variable10        10  float64   \n",
       "variable11            variable11        10   object   \n",
       "variable12            variable12        10   object   \n",
       "variable13            variable13        10   object   \n",
       "variable14            variable14        10  float64   \n",
       "variable15            variable15        10    int64   \n",
       "variable16            variable16        10   object   \n",
       "variable17            variable17        10  float64   \n",
       "variable18            variable18        10    int64   \n",
       "variable19            variable19        10   object   \n",
       "variable20            variable20        10   object   \n",
       "variable21            variable21        10  float64   \n",
       "variable22            variable22        10  float64   \n",
       "variable23            variable23        10  float64   \n",
       "variable24            variable24        10  float64   \n",
       "variable25            variable25        10    int64   \n",
       "variable26            variable26        10    int64   \n",
       "variable27            variable27        10  float64   \n",
       "variable28            variable28        10    int64   \n",
       "variable29            variable29        10    int64   \n",
       "variable30            variable30        10    int64   \n",
       "variable31            variable31        10    int64   \n",
       "variable32            variable32        10    int64   \n",
       "variable33            variable33        10    int64   \n",
       "variable34            variable34        10  float64   \n",
       "variable35            variable35        10  float64   \n",
       "variable36            variable36        10  float64   \n",
       "variable37            variable37        10  float64   \n",
       "variable38            variable38        10  float64   \n",
       "variable39            variable39        10  float64   \n",
       "variable40            variable40        10  float64   \n",
       "\n",
       "                                                                 0  \n",
       "plate_name                                                  plate1  \n",
       "device                                                     device1  \n",
       "consumable_name                                        consumable1  \n",
       "is_sample                                                   Sample  \n",
       "well                                                           A01  \n",
       "channel                                                  channel_1  \n",
       "temperature                                                    Low  \n",
       "sequence         [6004.03532629 5969.00735142 5943.7098278  593...  \n",
       "variable1                                                        0  \n",
       "variable2                                                        0  \n",
       "variable3                                                        1  \n",
       "variable4                                                      140  \n",
       "variable5                                                        0  \n",
       "variable6                                                        0  \n",
       "variable7                                              1391.168647  \n",
       "variable8                                                        0  \n",
       "variable9                                                        0  \n",
       "variable10                                                0.155714  \n",
       "variable11       [0. 0. 0. 0. 0. 0. 0. 0. 0. 0. 0. 0. 0. 0. 0. ...  \n",
       "variable12                                                      []  \n",
       "variable13                       [-7.58876299e-04 -9.19821705e+02]  \n",
       "variable14                                                0.999874  \n",
       "variable15                                                      20  \n",
       "variable16       [0. 0. 0. 0. 0. 0. 0. 0. 0. 0. 0. 0. 0. 0. 0. ...  \n",
       "variable17                                               -8.473248  \n",
       "variable18                                                       0  \n",
       "variable19       [-8.47456333e+00  1.35908774e+03  2.79879802e+...  \n",
       "variable20                                           [0. 0. 0. 0.]  \n",
       "variable21                                                0.999863  \n",
       "variable22                                             1367.340612  \n",
       "variable23                                              175.506228  \n",
       "variable24                                               23.758599  \n",
       "variable25                                                       0  \n",
       "variable26                                                       0  \n",
       "variable27                                               23.758599  \n",
       "variable28                                                       0  \n",
       "variable29                                                       0  \n",
       "variable30                                                       0  \n",
       "variable31                                                       0  \n",
       "variable32                                                       0  \n",
       "variable33                                                       0  \n",
       "variable34                                               23.758599  \n",
       "variable35                                               -8.474563  \n",
       "variable36                                             1359.087742  \n",
       "variable37                                                27.98798  \n",
       "variable38                                                0.222943  \n",
       "variable39                                               -0.000759  \n",
       "variable40                                             -919.821705  "
      ]
     },
     "execution_count": 10,
     "metadata": {},
     "output_type": "execute_result"
    }
   ],
   "source": [
    "# column 별 있는 값의 개수 (Non-Null), Data type, 값의 예시를 들어주는 정보를 담은 table\n",
    "pd.concat([pd.DataFrame(df_info), df.head(1).T], axis= 1)"
   ]
  },
  {
   "cell_type": "code",
   "execution_count": 11,
   "metadata": {},
   "outputs": [],
   "source": [
    "# split discrete, continuous variables\n",
    "\n",
    "cat_col = [col for col in df.columns if df[col].dtypes in ['object', 'int64']]\n",
    "num_col = [col for col in df.columns if df[col].dtypes in ['float64']]"
   ]
  },
  {
   "cell_type": "code",
   "execution_count": 12,
   "metadata": {},
   "outputs": [
    {
     "data": {
      "text/plain": [
       "['plate_name',\n",
       " 'device',\n",
       " 'consumable_name',\n",
       " 'is_sample',\n",
       " 'well',\n",
       " 'channel',\n",
       " 'temperature',\n",
       " 'sequence',\n",
       " 'variable1',\n",
       " 'variable2',\n",
       " 'variable3',\n",
       " 'variable4',\n",
       " 'variable5',\n",
       " 'variable6',\n",
       " 'variable8',\n",
       " 'variable9',\n",
       " 'variable11',\n",
       " 'variable12',\n",
       " 'variable13',\n",
       " 'variable15',\n",
       " 'variable16',\n",
       " 'variable18',\n",
       " 'variable19',\n",
       " 'variable20',\n",
       " 'variable25',\n",
       " 'variable26',\n",
       " 'variable28',\n",
       " 'variable29',\n",
       " 'variable30',\n",
       " 'variable31',\n",
       " 'variable32',\n",
       " 'variable33']"
      ]
     },
     "execution_count": 12,
     "metadata": {},
     "output_type": "execute_result"
    }
   ],
   "source": [
    "# cat_col, num_col 이 잘 정의 되었는지 하나 하나 확인 해야 함. \n",
    "# 잘 됐겠거니 하고 넘어가지 말 것. \n",
    "cat_col"
   ]
  },
  {
   "cell_type": "code",
   "execution_count": 13,
   "metadata": {},
   "outputs": [
    {
     "data": {
      "text/plain": [
       "['variable7',\n",
       " 'variable10',\n",
       " 'variable14',\n",
       " 'variable17',\n",
       " 'variable21',\n",
       " 'variable22',\n",
       " 'variable23',\n",
       " 'variable24',\n",
       " 'variable27',\n",
       " 'variable34',\n",
       " 'variable35',\n",
       " 'variable36',\n",
       " 'variable37',\n",
       " 'variable38',\n",
       " 'variable39',\n",
       " 'variable40']"
      ]
     },
     "execution_count": 13,
     "metadata": {},
     "output_type": "execute_result"
    }
   ],
   "source": [
    "num_col "
   ]
  },
  {
   "cell_type": "markdown",
   "metadata": {},
   "source": [
    "##### 2. Duplicity check"
   ]
  },
  {
   "cell_type": "code",
   "execution_count": 16,
   "metadata": {},
   "outputs": [
    {
     "data": {
      "text/plain": [
       "0"
      ]
     },
     "execution_count": 16,
     "metadata": {},
     "output_type": "execute_result"
    }
   ],
   "source": [
    "# duplicity check => sum == 0 => no duplicity \n",
    "df.duplicated(subset=['well','channel','temperature']).sum()"
   ]
  },
  {
   "cell_type": "markdown",
   "metadata": {},
   "source": [
    "##### 3. Column 별 discrete 한 값을 가질 경우, unique 값 조회"
   ]
  },
  {
   "cell_type": "code",
   "execution_count": 17,
   "metadata": {},
   "outputs": [
    {
     "name": "stdout",
     "output_type": "stream",
     "text": [
      "plate_name\n",
      "['plate1' 'plate2' 'plate3' 'plate4' 'plate5' 'plate6' 'plate7' 'plate8'\n",
      " 'plate9' 'plate10']\n",
      "\n",
      "\n",
      "device\n",
      "['device1' 'device2' 'device3' 'device4' 'device5' 'device6' 'device7'\n",
      " 'device8' 'device9' 'device10']\n",
      "\n",
      "\n",
      "consumable_name\n",
      "['consumable1' 'consumable2' 'consumable3' 'consumable4' 'consumable5'\n",
      " 'consumable6' 'consumable7' 'consumable8' 'consumable9' 'consumable10']\n",
      "\n",
      "\n",
      "is_sample\n",
      "['Sample']\n",
      "\n",
      "\n",
      "well\n",
      "['A01' 'A02']\n",
      "\n",
      "\n",
      "channel\n",
      "['channel_1' 'channel_2' 'channel_3' 'channel_4' 'channel_5' 'channel_6'\n",
      " 'channel_7' 'channel_8' 'channel_9' 'channel_10']\n",
      "\n",
      "\n",
      "temperature\n",
      "['Low' 'High']\n",
      "\n",
      "\n",
      "sequence\n",
      "['[6004.03532629 5969.00735142 5943.7098278  5931.63602259 5919.77746832\\n 5902.41944855 5889.90725369 5887.45881499 5883.70834851 5871.42398282\\n 5870.94366861 5863.9111029  5867.03602087 5863.18233238 5861.17090112\\n 5860.36908262 5850.68013236 5858.08715422 5854.59832541 5859.96304537\\n 5872.61283127 5900.62887147 5930.39522773 5991.23269329 6082.91960062\\n 6189.95407865 6336.88232452 6508.50373493 6678.42795256 6834.68132024\\n 6952.46917705 7041.25967291 7089.66556046 7117.01521577 7137.27057121\\n 7148.2936413  7156.69230889 7164.52619055 7171.9458584  7176.98716922\\n 7179.394429   7190.88613916 7194.13722728 7198.39905775 7208.71365514]'\n",
      " '[5747.17698632 5733.17105896 5718.3134234  5703.03002463 5694.49596553\\n 5688.11762575 5683.26313378 5674.29167334 5663.35077734 5667.93524507\\n 5666.87164146 5656.95184684 5658.04775939 5661.50668792 5648.91918119\\n 5646.75099325 5646.79376278 5644.87497838 5645.95855792 5642.32397977\\n 5637.87578825 5638.55138924 5635.00885169 5637.28133318 5633.52023279\\n 5635.16711972 5628.01821701 5629.02609402 5626.46580774 5625.56704668\\n 5620.23423925 5623.73673379 5625.52811192 5621.85022806 5618.84060743\\n 5616.73563526 5621.56813078 5621.66319816 5620.64140235 5621.69356428\\n 5615.3889808  5617.76486426 5623.03921616 5625.18360304 5623.47558439]'\n",
      " '[2920.5465141  2921.14939063 2906.14097522 2903.19875678 2901.87912621\\n 2895.2973678  2890.60487428 2890.1349447  2889.57106738 2886.73858387\\n 2882.2366473  2882.6227207  2880.61089294 2879.87730645 2880.72901636\\n 2877.55746143 2878.08297828 2875.86566132 2875.40350325 2872.95101859\\n 2871.57996178 2870.32298618 2870.38614537 2868.99586435 2873.99122791\\n 2874.42731791 2866.81210989 2865.43217827 2871.04345858 2874.51173005\\n 2881.60631709 2895.2211398  2913.64023524 2947.95420904 3001.95578707\\n 3060.085901   3141.32725353 3224.0126706  3314.42087616 3404.35429651\\n 3487.10627086 3554.90134781 3616.61171479 3671.38344152 3720.30331773]'\n",
      " '[2921.20018866 2918.35143777 2914.51871461 2905.86309528 2905.6888997\\n 2901.50007479 2899.6265204  2900.68307725 2898.39725796 2896.52960349\\n 2895.0638253  2889.44654999 2889.94177513 2888.93830152 2886.99597826\\n 2888.75921975 2883.8201882  2887.97262261 2884.27941428 2883.58284838\\n 2884.38760731 2882.68985345 2883.46919675 2880.54520806 2880.31750138\\n 2878.29964534 2870.9020973  2876.19676179 2870.13603676 2875.58255212\\n 2870.52877761 2866.59553017 2868.22674057 2870.7321566  2865.96560442\\n 2862.71750675 2863.2647174  2866.48127452 2866.15386522 2865.21850084\\n 2866.20857281 2868.01964095 2868.54686704 2866.65574874 2869.83277947]'\n",
      " '[5680.86159188 5635.3953137  5623.07148477 5601.67309851 5587.20004558\\n 5578.27337679 5569.19500303 5561.34237169 5551.87881494 5546.4115503\\n 5542.48683621 5530.59570321 5528.99454041 5526.0469593  5518.96095395\\n 5514.77037966 5512.17813723 5509.34407879 5504.57351075 5498.22655081\\n 5498.21173027 5492.114621   5489.59877224 5485.22228476 5482.18509413\\n 5472.8327505  5471.38687475 5464.412726   5462.32636574 5455.48820047\\n 5450.28458261 5447.17552894 5448.34297617 5447.54743281 5445.76357699\\n 5441.53053995 5442.03459712 5437.10556481 5442.79530369 5439.11280978\\n 5441.56788726 5443.76837377 5448.88043734 5449.16453285 5449.53339595]'\n",
      " '[5835.64416556 5820.37692121 5802.85696437 5790.39305726 5778.33523167\\n 5770.28575636 5762.88017649 5757.0787047  5745.28801907 5744.11880745\\n 5735.86192694 5733.96310702 5727.06385271 5724.12195578 5718.84749518\\n 5714.51999211 5713.96931511 5706.14250756 5708.77899932 5707.87493863\\n 5701.81158183 5694.92027415 5688.48447419 5691.03579506 5682.15198239\\n 5677.98298694 5676.15998386 5665.55971743 5665.99332494 5659.30767053\\n 5657.19763339 5652.20635147 5649.72470512 5642.33571323 5645.1736303\\n 5635.90774691 5633.08084025 5633.26816542 5628.40114321 5633.75964909\\n 5624.39916375 5626.2754726  5628.48030611 5629.60019451 5626.63975611]'\n",
      " '[4199.85331333 4186.73527968 4176.8226958  4169.58798091 4164.16439952\\n 4159.92938734 4152.10861597 4149.71040225 4144.81293531 4147.26099953\\n 4140.74001427 4139.19037395 4133.84950328 4135.01160068 4130.83703328\\n 4126.45787655 4123.54259244 4118.48937756 4115.56012478 4115.44986089\\n 4111.23963201 4104.31325969 4105.5895117  4104.79197456 4100.07391498\\n 4095.78996723 4087.53423118 4083.23736496 4073.60945893 4077.01021542\\n 4074.85245693 4070.60652664 4065.82043641 4064.39561378 4066.52474441\\n 4063.81015491 4057.30903585 4056.48281969 4053.86719031 4048.37142766\\n 4050.64729785 4050.91313267 4048.20372734 4049.0343801  4048.04872017]'\n",
      " '[4085.92000199 4076.29679439 4077.88171277 4066.34504488 4064.42070631\\n 4063.38807858 4060.04859129 4053.47385515 4052.9759751  4050.6262753\\n 4049.12070878 4044.87480091 4040.96965764 4035.82984781 4038.68694327\\n 4035.25514585 4028.16436339 4028.14507638 4029.3941181  4025.85890469\\n 4020.43819765 4019.42179298 4019.2235998  4016.76633819 4012.63308243\\n 4007.26883836 4000.94737187 3999.37269507 3996.12987538 3993.58961128\\n 3987.64978096 3988.66049297 3985.11720095 3983.27694885 3980.33927385\\n 3976.58365542 3973.55704908 3973.41385022 3971.25401692 3969.52741937\\n 3969.26446556 3969.03059606 3968.13486789 3966.86977808 3967.9667127 ]'\n",
      " '[6002.60828742 5986.26116938 5974.05828898 5971.76735874 5964.45357812\\n 5959.84760572 5947.15757054 5941.87519833 5940.49886868 5938.3856006\\n 5929.14311666 5928.65204011 5929.9450263  5931.4662448  5926.02655144\\n 5925.67335317 5921.73581278 5921.17344403 5916.73444977 5917.61988921\\n 5918.03724163 5914.41177313 5915.66165964 5922.52706821 5933.94739081\\n 5954.52457807 5989.19836182 6040.49175804 6125.17826426 6231.4409638\\n 6373.06563723 6537.23729622 6711.02659463 6863.718292   6998.87385266\\n 7092.1121182  7158.83612586 7200.54395951 7224.22732899 7242.56251069\\n 7247.93958251 7260.97257659 7269.75566815 7272.20391453 7283.11454412]'\n",
      " '[5787.24982907 5775.94269894 5770.30441993 5766.66983641 5760.15835779\\n 5750.67615459 5748.16280868 5748.68386593 5744.63084047 5735.64958849\\n 5741.25316687 5734.24340101 5731.68041725 5735.29708729 5729.19991954\\n 5727.0537535  5728.61629732 5723.43950474 5721.1550707  5722.39717148\\n 5723.07310484 5717.19662787 5716.80067826 5718.92654907 5717.6131191\\n 5716.41624844 5709.43490738 5713.36119468 5707.94524415 5708.23719644\\n 5701.97484248 5697.86717289 5693.37745227 5692.02292496 5691.82689877\\n 5685.31413604 5685.7198892  5686.8851356  5678.65448145 5680.6786791\\n 5675.93518188 5681.30070621 5678.02946689 5679.13481801 5681.50052015]']\n",
      "\n",
      "\n",
      "variable1\n",
      "[0]\n",
      "\n",
      "\n",
      "variable2\n",
      "[0]\n",
      "\n",
      "\n",
      "variable3\n",
      "[1 0]\n",
      "\n",
      "\n",
      "variable4\n",
      "[140 200 150   0 290 235 100]\n",
      "\n",
      "\n",
      "variable5\n",
      "[0 1]\n",
      "\n",
      "\n",
      "variable6\n",
      "[0 1]\n",
      "\n",
      "\n",
      "variable8\n",
      "[0 1]\n",
      "\n",
      "\n",
      "variable9\n",
      "[0 2]\n",
      "\n",
      "\n",
      "variable11\n",
      "['[0. 0. 0. 0. 0. 0. 0. 0. 0. 0. 0. 0. 0. 0. 0. 0. 0. 0. 0. 0. 0. 0. 0. 0.\\n 0. 0. 0. 0. 0. 0. 0. 0. 0. 0. 0. 0. 0. 0. 0. 0. 0. 0. 0. 0. 0.]']\n",
      "\n",
      "\n",
      "variable12\n",
      "['[]']\n",
      "\n",
      "\n",
      "variable13\n",
      "['[-7.58876299e-04 -9.19821705e+02]' '[0. 0.]'\n",
      " '[1.65074384e-02 2.86121802e+03]' '[1.01943194e-02 2.87530106e+03]'\n",
      " '[-2.55350322e-03 -9.45509583e+02]']\n",
      "\n",
      "\n",
      "variable15\n",
      "[20  0 31 23 24]\n",
      "\n",
      "\n",
      "variable16\n",
      "['[0. 0. 0. 0. 0. 0. 0. 0. 0. 0. 0. 0. 0. 0. 0. 0. 0. 0. 0. 0. 0. 0. 0. 0.\\n 0. 0. 0. 0. 0. 0. 0. 0. 0. 0. 0. 0. 0. 0. 0. 0. 0. 0. 0. 0. 0.]']\n",
      "\n",
      "\n",
      "variable18\n",
      "[0]\n",
      "\n",
      "\n",
      "variable19\n",
      "['[-8.47456333e+00  1.35908774e+03  2.79879802e+01  2.22943003e-01]'\n",
      " '[0. 0. 0. 0.]'\n",
      " '[-5.13728721e+00  9.10880811e+02  3.90629635e+01  1.83344453e-01]'\n",
      " '[-14.63128998  -6.65095011  39.56306723   0.23550536]'\n",
      " '[-7.32349277e+00  1.40350993e+03  3.23007315e+01  2.18994887e-01]']\n",
      "\n",
      "\n",
      "variable20\n",
      "['[0. 0. 0. 0.]']\n",
      "\n",
      "\n",
      "variable25\n",
      "[0 1]\n",
      "\n",
      "\n",
      "variable26\n",
      "[0 2]\n",
      "\n",
      "\n",
      "variable28\n",
      "[0]\n",
      "\n",
      "\n",
      "variable29\n",
      "[0]\n",
      "\n",
      "\n",
      "variable30\n",
      "[0]\n",
      "\n",
      "\n",
      "variable31\n",
      "[0]\n",
      "\n",
      "\n",
      "variable32\n",
      "[0 1]\n",
      "\n",
      "\n",
      "variable33\n",
      "[0 2 1]\n",
      "\n",
      "\n",
      "plate_name\n",
      "['plate1' 'plate2' 'plate3' 'plate4' 'plate5' 'plate6' 'plate7' 'plate8'\n",
      " 'plate9' 'plate10']\n",
      "\n",
      "\n",
      "device\n",
      "['device1' 'device2' 'device3' 'device4' 'device5' 'device6' 'device7'\n",
      " 'device8' 'device9' 'device10']\n",
      "\n",
      "\n",
      "consumable_name\n",
      "['consumable1' 'consumable2' 'consumable3' 'consumable4' 'consumable5'\n",
      " 'consumable6' 'consumable7' 'consumable8' 'consumable9' 'consumable10']\n",
      "\n",
      "\n",
      "is_sample\n",
      "['Sample']\n",
      "\n",
      "\n",
      "well\n",
      "['A01' 'A02']\n",
      "\n",
      "\n",
      "channel\n",
      "['channel_1' 'channel_2' 'channel_3' 'channel_4' 'channel_5' 'channel_6'\n",
      " 'channel_7' 'channel_8' 'channel_9' 'channel_10']\n",
      "\n",
      "\n",
      "temperature\n",
      "['Low' 'High']\n",
      "\n",
      "\n",
      "sequence\n",
      "['[6004.03532629 5969.00735142 5943.7098278  5931.63602259 5919.77746832\\n 5902.41944855 5889.90725369 5887.45881499 5883.70834851 5871.42398282\\n 5870.94366861 5863.9111029  5867.03602087 5863.18233238 5861.17090112\\n 5860.36908262 5850.68013236 5858.08715422 5854.59832541 5859.96304537\\n 5872.61283127 5900.62887147 5930.39522773 5991.23269329 6082.91960062\\n 6189.95407865 6336.88232452 6508.50373493 6678.42795256 6834.68132024\\n 6952.46917705 7041.25967291 7089.66556046 7117.01521577 7137.27057121\\n 7148.2936413  7156.69230889 7164.52619055 7171.9458584  7176.98716922\\n 7179.394429   7190.88613916 7194.13722728 7198.39905775 7208.71365514]'\n",
      " '[5747.17698632 5733.17105896 5718.3134234  5703.03002463 5694.49596553\\n 5688.11762575 5683.26313378 5674.29167334 5663.35077734 5667.93524507\\n 5666.87164146 5656.95184684 5658.04775939 5661.50668792 5648.91918119\\n 5646.75099325 5646.79376278 5644.87497838 5645.95855792 5642.32397977\\n 5637.87578825 5638.55138924 5635.00885169 5637.28133318 5633.52023279\\n 5635.16711972 5628.01821701 5629.02609402 5626.46580774 5625.56704668\\n 5620.23423925 5623.73673379 5625.52811192 5621.85022806 5618.84060743\\n 5616.73563526 5621.56813078 5621.66319816 5620.64140235 5621.69356428\\n 5615.3889808  5617.76486426 5623.03921616 5625.18360304 5623.47558439]'\n",
      " '[2920.5465141  2921.14939063 2906.14097522 2903.19875678 2901.87912621\\n 2895.2973678  2890.60487428 2890.1349447  2889.57106738 2886.73858387\\n 2882.2366473  2882.6227207  2880.61089294 2879.87730645 2880.72901636\\n 2877.55746143 2878.08297828 2875.86566132 2875.40350325 2872.95101859\\n 2871.57996178 2870.32298618 2870.38614537 2868.99586435 2873.99122791\\n 2874.42731791 2866.81210989 2865.43217827 2871.04345858 2874.51173005\\n 2881.60631709 2895.2211398  2913.64023524 2947.95420904 3001.95578707\\n 3060.085901   3141.32725353 3224.0126706  3314.42087616 3404.35429651\\n 3487.10627086 3554.90134781 3616.61171479 3671.38344152 3720.30331773]'\n",
      " '[2921.20018866 2918.35143777 2914.51871461 2905.86309528 2905.6888997\\n 2901.50007479 2899.6265204  2900.68307725 2898.39725796 2896.52960349\\n 2895.0638253  2889.44654999 2889.94177513 2888.93830152 2886.99597826\\n 2888.75921975 2883.8201882  2887.97262261 2884.27941428 2883.58284838\\n 2884.38760731 2882.68985345 2883.46919675 2880.54520806 2880.31750138\\n 2878.29964534 2870.9020973  2876.19676179 2870.13603676 2875.58255212\\n 2870.52877761 2866.59553017 2868.22674057 2870.7321566  2865.96560442\\n 2862.71750675 2863.2647174  2866.48127452 2866.15386522 2865.21850084\\n 2866.20857281 2868.01964095 2868.54686704 2866.65574874 2869.83277947]'\n",
      " '[5680.86159188 5635.3953137  5623.07148477 5601.67309851 5587.20004558\\n 5578.27337679 5569.19500303 5561.34237169 5551.87881494 5546.4115503\\n 5542.48683621 5530.59570321 5528.99454041 5526.0469593  5518.96095395\\n 5514.77037966 5512.17813723 5509.34407879 5504.57351075 5498.22655081\\n 5498.21173027 5492.114621   5489.59877224 5485.22228476 5482.18509413\\n 5472.8327505  5471.38687475 5464.412726   5462.32636574 5455.48820047\\n 5450.28458261 5447.17552894 5448.34297617 5447.54743281 5445.76357699\\n 5441.53053995 5442.03459712 5437.10556481 5442.79530369 5439.11280978\\n 5441.56788726 5443.76837377 5448.88043734 5449.16453285 5449.53339595]'\n",
      " '[5835.64416556 5820.37692121 5802.85696437 5790.39305726 5778.33523167\\n 5770.28575636 5762.88017649 5757.0787047  5745.28801907 5744.11880745\\n 5735.86192694 5733.96310702 5727.06385271 5724.12195578 5718.84749518\\n 5714.51999211 5713.96931511 5706.14250756 5708.77899932 5707.87493863\\n 5701.81158183 5694.92027415 5688.48447419 5691.03579506 5682.15198239\\n 5677.98298694 5676.15998386 5665.55971743 5665.99332494 5659.30767053\\n 5657.19763339 5652.20635147 5649.72470512 5642.33571323 5645.1736303\\n 5635.90774691 5633.08084025 5633.26816542 5628.40114321 5633.75964909\\n 5624.39916375 5626.2754726  5628.48030611 5629.60019451 5626.63975611]'\n",
      " '[4199.85331333 4186.73527968 4176.8226958  4169.58798091 4164.16439952\\n 4159.92938734 4152.10861597 4149.71040225 4144.81293531 4147.26099953\\n 4140.74001427 4139.19037395 4133.84950328 4135.01160068 4130.83703328\\n 4126.45787655 4123.54259244 4118.48937756 4115.56012478 4115.44986089\\n 4111.23963201 4104.31325969 4105.5895117  4104.79197456 4100.07391498\\n 4095.78996723 4087.53423118 4083.23736496 4073.60945893 4077.01021542\\n 4074.85245693 4070.60652664 4065.82043641 4064.39561378 4066.52474441\\n 4063.81015491 4057.30903585 4056.48281969 4053.86719031 4048.37142766\\n 4050.64729785 4050.91313267 4048.20372734 4049.0343801  4048.04872017]'\n",
      " '[4085.92000199 4076.29679439 4077.88171277 4066.34504488 4064.42070631\\n 4063.38807858 4060.04859129 4053.47385515 4052.9759751  4050.6262753\\n 4049.12070878 4044.87480091 4040.96965764 4035.82984781 4038.68694327\\n 4035.25514585 4028.16436339 4028.14507638 4029.3941181  4025.85890469\\n 4020.43819765 4019.42179298 4019.2235998  4016.76633819 4012.63308243\\n 4007.26883836 4000.94737187 3999.37269507 3996.12987538 3993.58961128\\n 3987.64978096 3988.66049297 3985.11720095 3983.27694885 3980.33927385\\n 3976.58365542 3973.55704908 3973.41385022 3971.25401692 3969.52741937\\n 3969.26446556 3969.03059606 3968.13486789 3966.86977808 3967.9667127 ]'\n",
      " '[6002.60828742 5986.26116938 5974.05828898 5971.76735874 5964.45357812\\n 5959.84760572 5947.15757054 5941.87519833 5940.49886868 5938.3856006\\n 5929.14311666 5928.65204011 5929.9450263  5931.4662448  5926.02655144\\n 5925.67335317 5921.73581278 5921.17344403 5916.73444977 5917.61988921\\n 5918.03724163 5914.41177313 5915.66165964 5922.52706821 5933.94739081\\n 5954.52457807 5989.19836182 6040.49175804 6125.17826426 6231.4409638\\n 6373.06563723 6537.23729622 6711.02659463 6863.718292   6998.87385266\\n 7092.1121182  7158.83612586 7200.54395951 7224.22732899 7242.56251069\\n 7247.93958251 7260.97257659 7269.75566815 7272.20391453 7283.11454412]'\n",
      " '[5787.24982907 5775.94269894 5770.30441993 5766.66983641 5760.15835779\\n 5750.67615459 5748.16280868 5748.68386593 5744.63084047 5735.64958849\\n 5741.25316687 5734.24340101 5731.68041725 5735.29708729 5729.19991954\\n 5727.0537535  5728.61629732 5723.43950474 5721.1550707  5722.39717148\\n 5723.07310484 5717.19662787 5716.80067826 5718.92654907 5717.6131191\\n 5716.41624844 5709.43490738 5713.36119468 5707.94524415 5708.23719644\\n 5701.97484248 5697.86717289 5693.37745227 5692.02292496 5691.82689877\\n 5685.31413604 5685.7198892  5686.8851356  5678.65448145 5680.6786791\\n 5675.93518188 5681.30070621 5678.02946689 5679.13481801 5681.50052015]']\n",
      "\n",
      "\n",
      "variable1\n",
      "[0]\n",
      "\n",
      "\n",
      "variable2\n",
      "[0]\n",
      "\n",
      "\n",
      "variable3\n",
      "[1 0]\n",
      "\n",
      "\n",
      "variable4\n",
      "[140 200 150   0 290 235 100]\n",
      "\n",
      "\n",
      "variable5\n",
      "[0 1]\n",
      "\n",
      "\n",
      "variable6\n",
      "[0 1]\n",
      "\n",
      "\n",
      "variable8\n",
      "[0 1]\n",
      "\n",
      "\n",
      "variable9\n",
      "[0 2]\n",
      "\n",
      "\n",
      "variable11\n",
      "['[0. 0. 0. 0. 0. 0. 0. 0. 0. 0. 0. 0. 0. 0. 0. 0. 0. 0. 0. 0. 0. 0. 0. 0.\\n 0. 0. 0. 0. 0. 0. 0. 0. 0. 0. 0. 0. 0. 0. 0. 0. 0. 0. 0. 0. 0.]']\n",
      "\n",
      "\n",
      "variable12\n",
      "['[]']\n",
      "\n",
      "\n",
      "variable13\n",
      "['[-7.58876299e-04 -9.19821705e+02]' '[0. 0.]'\n",
      " '[1.65074384e-02 2.86121802e+03]' '[1.01943194e-02 2.87530106e+03]'\n",
      " '[-2.55350322e-03 -9.45509583e+02]']\n",
      "\n",
      "\n",
      "variable15\n",
      "[20  0 31 23 24]\n",
      "\n",
      "\n",
      "variable16\n",
      "['[0. 0. 0. 0. 0. 0. 0. 0. 0. 0. 0. 0. 0. 0. 0. 0. 0. 0. 0. 0. 0. 0. 0. 0.\\n 0. 0. 0. 0. 0. 0. 0. 0. 0. 0. 0. 0. 0. 0. 0. 0. 0. 0. 0. 0. 0.]']\n",
      "\n",
      "\n",
      "variable18\n",
      "[0]\n",
      "\n",
      "\n",
      "variable19\n",
      "['[-8.47456333e+00  1.35908774e+03  2.79879802e+01  2.22943003e-01]'\n",
      " '[0. 0. 0. 0.]'\n",
      " '[-5.13728721e+00  9.10880811e+02  3.90629635e+01  1.83344453e-01]'\n",
      " '[-14.63128998  -6.65095011  39.56306723   0.23550536]'\n",
      " '[-7.32349277e+00  1.40350993e+03  3.23007315e+01  2.18994887e-01]']\n",
      "\n",
      "\n",
      "variable20\n",
      "['[0. 0. 0. 0.]']\n",
      "\n",
      "\n",
      "variable25\n",
      "[0 1]\n",
      "\n",
      "\n",
      "variable26\n",
      "[0 2]\n",
      "\n",
      "\n",
      "variable28\n",
      "[0]\n",
      "\n",
      "\n",
      "variable29\n",
      "[0]\n",
      "\n",
      "\n",
      "variable30\n",
      "[0]\n",
      "\n",
      "\n",
      "variable31\n",
      "[0]\n",
      "\n",
      "\n",
      "variable32\n",
      "[0 1]\n",
      "\n",
      "\n",
      "variable33\n",
      "[0 2 1]\n",
      "\n",
      "\n"
     ]
    }
   ],
   "source": [
    "# column 별 unique value 확인\n",
    "\n",
    "for col in df[cat_col].columns:\n",
    "    print(col)\n",
    "    print(df[col].unique())\n",
    "    # print line change\n",
    "    print('\\n')\n",
    "\n",
    "for col in df[cat_col].columns:\n",
    "    print(col)\n",
    "    print(df[col].apply(lambda x: tuple(x) if isinstance(x, np.ndarray) else x).unique())\n",
    "    # print line change\n",
    "    print('\\n')"
   ]
  },
  {
   "cell_type": "markdown",
   "metadata": {},
   "source": [
    "##### 4. outlier 존재 여부 체크 (univariate)"
   ]
  },
  {
   "cell_type": "code",
   "execution_count": 18,
   "metadata": {},
   "outputs": [
    {
     "data": {
      "application/vnd.plotly.v1+json": {
       "config": {
        "plotlyServerURL": "https://plot.ly"
       },
       "data": [
        {
         "alignmentgroup": "True",
         "hovertemplate": "variable=%{x}<br>value=%{y}<extra></extra>",
         "legendgroup": "",
         "marker": {
          "color": "#636efa"
         },
         "name": "",
         "notched": false,
         "offsetgroup": "",
         "orientation": "v",
         "showlegend": false,
         "type": "box",
         "x": [
          "variable7",
          "variable7",
          "variable7",
          "variable7",
          "variable7",
          "variable7",
          "variable7",
          "variable7",
          "variable7",
          "variable7",
          "variable10",
          "variable10",
          "variable10",
          "variable10",
          "variable10",
          "variable10",
          "variable10",
          "variable10",
          "variable10",
          "variable10",
          "variable14",
          "variable14",
          "variable14",
          "variable14",
          "variable14",
          "variable14",
          "variable14",
          "variable14",
          "variable14",
          "variable14",
          "variable17",
          "variable17",
          "variable17",
          "variable17",
          "variable17",
          "variable17",
          "variable17",
          "variable17",
          "variable17",
          "variable17",
          "variable21",
          "variable21",
          "variable21",
          "variable21",
          "variable21",
          "variable21",
          "variable21",
          "variable21",
          "variable21",
          "variable21",
          "variable22",
          "variable22",
          "variable22",
          "variable22",
          "variable22",
          "variable22",
          "variable22",
          "variable22",
          "variable22",
          "variable22",
          "variable23",
          "variable23",
          "variable23",
          "variable23",
          "variable23",
          "variable23",
          "variable23",
          "variable23",
          "variable23",
          "variable23",
          "variable24",
          "variable24",
          "variable24",
          "variable24",
          "variable24",
          "variable24",
          "variable24",
          "variable24",
          "variable24",
          "variable24",
          "variable27",
          "variable27",
          "variable27",
          "variable27",
          "variable27",
          "variable27",
          "variable27",
          "variable27",
          "variable27",
          "variable27",
          "variable34",
          "variable34",
          "variable34",
          "variable34",
          "variable34",
          "variable34",
          "variable34",
          "variable34",
          "variable34",
          "variable34",
          "variable35",
          "variable35",
          "variable35",
          "variable35",
          "variable35",
          "variable35",
          "variable35",
          "variable35",
          "variable35",
          "variable35",
          "variable36",
          "variable36",
          "variable36",
          "variable36",
          "variable36",
          "variable36",
          "variable36",
          "variable36",
          "variable36",
          "variable36",
          "variable37",
          "variable37",
          "variable37",
          "variable37",
          "variable37",
          "variable37",
          "variable37",
          "variable37",
          "variable37",
          "variable37",
          "variable38",
          "variable38",
          "variable38",
          "variable38",
          "variable38",
          "variable38",
          "variable38",
          "variable38",
          "variable38",
          "variable38",
          "variable39",
          "variable39",
          "variable39",
          "variable39",
          "variable39",
          "variable39",
          "variable39",
          "variable39",
          "variable39",
          "variable39",
          "variable40",
          "variable40",
          "variable40",
          "variable40",
          "variable40",
          "variable40",
          "variable40",
          "variable40",
          "variable40",
          "variable40"
         ],
         "x0": " ",
         "xaxis": "x",
         "y": [
          1391.168647,
          8.08660359,
          854.8711395,
          7.115272713,
          12.42783115,
          2.240592361,
          0,
          1.096934625,
          1425.674604,
          5.565338263,
          0.155713876,
          0,
          0.124359364,
          2.352259996,
          0,
          0,
          0,
          0,
          0.140579406,
          0,
          0.999873506,
          0,
          0.999679775,
          0.993675111,
          0,
          0,
          0,
          0,
          0.999937983,
          0,
          -8.473247609,
          0,
          -5.137190991,
          -14.63128998,
          0,
          0,
          0,
          0,
          -7.323295626,
          0,
          0.999862848,
          0,
          0.999426247,
          0.942735156,
          0,
          0,
          0,
          0,
          0.999935824,
          0,
          1367.340612,
          8.08660359,
          846.9414387,
          7.582780766,
          12.42783115,
          2.240592361,
          0,
          1.096934625,
          1408.501474,
          5.565338263,
          175.5062276,
          0,
          96.6608958,
          1.066834134,
          0,
          0,
          0,
          0,
          176.8361354,
          0,
          23.75859897,
          -1,
          35.20057537,
          0.999999974,
          -1,
          -1,
          -1,
          -1,
          27.92638319,
          -1,
          23.75859897,
          -1,
          35.20057537,
          0.999999974,
          -1,
          -1,
          -1,
          -1,
          27.92638319,
          -1,
          23.75859897,
          -1,
          35.20057537,
          0.999999974,
          -1,
          -1,
          -1,
          -1,
          27.92638319,
          -1,
          -8.474563334,
          0,
          -5.137287213,
          -14.63128998,
          0,
          0,
          0,
          0,
          -7.323492766,
          0,
          1359.087742,
          0,
          910.8808111,
          -6.650950111,
          0,
          0,
          0,
          0,
          1403.509931,
          0,
          27.98798025,
          0,
          39.0629635,
          39.56306723,
          0,
          0,
          0,
          0,
          32.30073149,
          0,
          0.222943003,
          0,
          0.183344453,
          0.235505359,
          0,
          0,
          0,
          0,
          0.218994887,
          0,
          -0.000758876,
          0,
          0.016507438,
          0.010194319,
          0,
          0,
          0,
          0,
          -0.002553503,
          0,
          -919.8217046,
          0,
          2861.218023,
          2875.301064,
          0,
          0,
          0,
          0,
          -945.5095833,
          0
         ],
         "y0": " ",
         "yaxis": "y"
        }
       ],
       "layout": {
        "boxmode": "group",
        "legend": {
         "tracegroupgap": 0
        },
        "margin": {
         "t": 60
        },
        "template": {
         "data": {
          "bar": [
           {
            "error_x": {
             "color": "#2a3f5f"
            },
            "error_y": {
             "color": "#2a3f5f"
            },
            "marker": {
             "line": {
              "color": "#E5ECF6",
              "width": 0.5
             },
             "pattern": {
              "fillmode": "overlay",
              "size": 10,
              "solidity": 0.2
             }
            },
            "type": "bar"
           }
          ],
          "barpolar": [
           {
            "marker": {
             "line": {
              "color": "#E5ECF6",
              "width": 0.5
             },
             "pattern": {
              "fillmode": "overlay",
              "size": 10,
              "solidity": 0.2
             }
            },
            "type": "barpolar"
           }
          ],
          "carpet": [
           {
            "aaxis": {
             "endlinecolor": "#2a3f5f",
             "gridcolor": "white",
             "linecolor": "white",
             "minorgridcolor": "white",
             "startlinecolor": "#2a3f5f"
            },
            "baxis": {
             "endlinecolor": "#2a3f5f",
             "gridcolor": "white",
             "linecolor": "white",
             "minorgridcolor": "white",
             "startlinecolor": "#2a3f5f"
            },
            "type": "carpet"
           }
          ],
          "choropleth": [
           {
            "colorbar": {
             "outlinewidth": 0,
             "ticks": ""
            },
            "type": "choropleth"
           }
          ],
          "contour": [
           {
            "colorbar": {
             "outlinewidth": 0,
             "ticks": ""
            },
            "colorscale": [
             [
              0,
              "#0d0887"
             ],
             [
              0.1111111111111111,
              "#46039f"
             ],
             [
              0.2222222222222222,
              "#7201a8"
             ],
             [
              0.3333333333333333,
              "#9c179e"
             ],
             [
              0.4444444444444444,
              "#bd3786"
             ],
             [
              0.5555555555555556,
              "#d8576b"
             ],
             [
              0.6666666666666666,
              "#ed7953"
             ],
             [
              0.7777777777777778,
              "#fb9f3a"
             ],
             [
              0.8888888888888888,
              "#fdca26"
             ],
             [
              1,
              "#f0f921"
             ]
            ],
            "type": "contour"
           }
          ],
          "contourcarpet": [
           {
            "colorbar": {
             "outlinewidth": 0,
             "ticks": ""
            },
            "type": "contourcarpet"
           }
          ],
          "heatmap": [
           {
            "colorbar": {
             "outlinewidth": 0,
             "ticks": ""
            },
            "colorscale": [
             [
              0,
              "#0d0887"
             ],
             [
              0.1111111111111111,
              "#46039f"
             ],
             [
              0.2222222222222222,
              "#7201a8"
             ],
             [
              0.3333333333333333,
              "#9c179e"
             ],
             [
              0.4444444444444444,
              "#bd3786"
             ],
             [
              0.5555555555555556,
              "#d8576b"
             ],
             [
              0.6666666666666666,
              "#ed7953"
             ],
             [
              0.7777777777777778,
              "#fb9f3a"
             ],
             [
              0.8888888888888888,
              "#fdca26"
             ],
             [
              1,
              "#f0f921"
             ]
            ],
            "type": "heatmap"
           }
          ],
          "heatmapgl": [
           {
            "colorbar": {
             "outlinewidth": 0,
             "ticks": ""
            },
            "colorscale": [
             [
              0,
              "#0d0887"
             ],
             [
              0.1111111111111111,
              "#46039f"
             ],
             [
              0.2222222222222222,
              "#7201a8"
             ],
             [
              0.3333333333333333,
              "#9c179e"
             ],
             [
              0.4444444444444444,
              "#bd3786"
             ],
             [
              0.5555555555555556,
              "#d8576b"
             ],
             [
              0.6666666666666666,
              "#ed7953"
             ],
             [
              0.7777777777777778,
              "#fb9f3a"
             ],
             [
              0.8888888888888888,
              "#fdca26"
             ],
             [
              1,
              "#f0f921"
             ]
            ],
            "type": "heatmapgl"
           }
          ],
          "histogram": [
           {
            "marker": {
             "pattern": {
              "fillmode": "overlay",
              "size": 10,
              "solidity": 0.2
             }
            },
            "type": "histogram"
           }
          ],
          "histogram2d": [
           {
            "colorbar": {
             "outlinewidth": 0,
             "ticks": ""
            },
            "colorscale": [
             [
              0,
              "#0d0887"
             ],
             [
              0.1111111111111111,
              "#46039f"
             ],
             [
              0.2222222222222222,
              "#7201a8"
             ],
             [
              0.3333333333333333,
              "#9c179e"
             ],
             [
              0.4444444444444444,
              "#bd3786"
             ],
             [
              0.5555555555555556,
              "#d8576b"
             ],
             [
              0.6666666666666666,
              "#ed7953"
             ],
             [
              0.7777777777777778,
              "#fb9f3a"
             ],
             [
              0.8888888888888888,
              "#fdca26"
             ],
             [
              1,
              "#f0f921"
             ]
            ],
            "type": "histogram2d"
           }
          ],
          "histogram2dcontour": [
           {
            "colorbar": {
             "outlinewidth": 0,
             "ticks": ""
            },
            "colorscale": [
             [
              0,
              "#0d0887"
             ],
             [
              0.1111111111111111,
              "#46039f"
             ],
             [
              0.2222222222222222,
              "#7201a8"
             ],
             [
              0.3333333333333333,
              "#9c179e"
             ],
             [
              0.4444444444444444,
              "#bd3786"
             ],
             [
              0.5555555555555556,
              "#d8576b"
             ],
             [
              0.6666666666666666,
              "#ed7953"
             ],
             [
              0.7777777777777778,
              "#fb9f3a"
             ],
             [
              0.8888888888888888,
              "#fdca26"
             ],
             [
              1,
              "#f0f921"
             ]
            ],
            "type": "histogram2dcontour"
           }
          ],
          "mesh3d": [
           {
            "colorbar": {
             "outlinewidth": 0,
             "ticks": ""
            },
            "type": "mesh3d"
           }
          ],
          "parcoords": [
           {
            "line": {
             "colorbar": {
              "outlinewidth": 0,
              "ticks": ""
             }
            },
            "type": "parcoords"
           }
          ],
          "pie": [
           {
            "automargin": true,
            "type": "pie"
           }
          ],
          "scatter": [
           {
            "marker": {
             "colorbar": {
              "outlinewidth": 0,
              "ticks": ""
             }
            },
            "type": "scatter"
           }
          ],
          "scatter3d": [
           {
            "line": {
             "colorbar": {
              "outlinewidth": 0,
              "ticks": ""
             }
            },
            "marker": {
             "colorbar": {
              "outlinewidth": 0,
              "ticks": ""
             }
            },
            "type": "scatter3d"
           }
          ],
          "scattercarpet": [
           {
            "marker": {
             "colorbar": {
              "outlinewidth": 0,
              "ticks": ""
             }
            },
            "type": "scattercarpet"
           }
          ],
          "scattergeo": [
           {
            "marker": {
             "colorbar": {
              "outlinewidth": 0,
              "ticks": ""
             }
            },
            "type": "scattergeo"
           }
          ],
          "scattergl": [
           {
            "marker": {
             "colorbar": {
              "outlinewidth": 0,
              "ticks": ""
             }
            },
            "type": "scattergl"
           }
          ],
          "scattermapbox": [
           {
            "marker": {
             "colorbar": {
              "outlinewidth": 0,
              "ticks": ""
             }
            },
            "type": "scattermapbox"
           }
          ],
          "scatterpolar": [
           {
            "marker": {
             "colorbar": {
              "outlinewidth": 0,
              "ticks": ""
             }
            },
            "type": "scatterpolar"
           }
          ],
          "scatterpolargl": [
           {
            "marker": {
             "colorbar": {
              "outlinewidth": 0,
              "ticks": ""
             }
            },
            "type": "scatterpolargl"
           }
          ],
          "scatterternary": [
           {
            "marker": {
             "colorbar": {
              "outlinewidth": 0,
              "ticks": ""
             }
            },
            "type": "scatterternary"
           }
          ],
          "surface": [
           {
            "colorbar": {
             "outlinewidth": 0,
             "ticks": ""
            },
            "colorscale": [
             [
              0,
              "#0d0887"
             ],
             [
              0.1111111111111111,
              "#46039f"
             ],
             [
              0.2222222222222222,
              "#7201a8"
             ],
             [
              0.3333333333333333,
              "#9c179e"
             ],
             [
              0.4444444444444444,
              "#bd3786"
             ],
             [
              0.5555555555555556,
              "#d8576b"
             ],
             [
              0.6666666666666666,
              "#ed7953"
             ],
             [
              0.7777777777777778,
              "#fb9f3a"
             ],
             [
              0.8888888888888888,
              "#fdca26"
             ],
             [
              1,
              "#f0f921"
             ]
            ],
            "type": "surface"
           }
          ],
          "table": [
           {
            "cells": {
             "fill": {
              "color": "#EBF0F8"
             },
             "line": {
              "color": "white"
             }
            },
            "header": {
             "fill": {
              "color": "#C8D4E3"
             },
             "line": {
              "color": "white"
             }
            },
            "type": "table"
           }
          ]
         },
         "layout": {
          "annotationdefaults": {
           "arrowcolor": "#2a3f5f",
           "arrowhead": 0,
           "arrowwidth": 1
          },
          "autotypenumbers": "strict",
          "coloraxis": {
           "colorbar": {
            "outlinewidth": 0,
            "ticks": ""
           }
          },
          "colorscale": {
           "diverging": [
            [
             0,
             "#8e0152"
            ],
            [
             0.1,
             "#c51b7d"
            ],
            [
             0.2,
             "#de77ae"
            ],
            [
             0.3,
             "#f1b6da"
            ],
            [
             0.4,
             "#fde0ef"
            ],
            [
             0.5,
             "#f7f7f7"
            ],
            [
             0.6,
             "#e6f5d0"
            ],
            [
             0.7,
             "#b8e186"
            ],
            [
             0.8,
             "#7fbc41"
            ],
            [
             0.9,
             "#4d9221"
            ],
            [
             1,
             "#276419"
            ]
           ],
           "sequential": [
            [
             0,
             "#0d0887"
            ],
            [
             0.1111111111111111,
             "#46039f"
            ],
            [
             0.2222222222222222,
             "#7201a8"
            ],
            [
             0.3333333333333333,
             "#9c179e"
            ],
            [
             0.4444444444444444,
             "#bd3786"
            ],
            [
             0.5555555555555556,
             "#d8576b"
            ],
            [
             0.6666666666666666,
             "#ed7953"
            ],
            [
             0.7777777777777778,
             "#fb9f3a"
            ],
            [
             0.8888888888888888,
             "#fdca26"
            ],
            [
             1,
             "#f0f921"
            ]
           ],
           "sequentialminus": [
            [
             0,
             "#0d0887"
            ],
            [
             0.1111111111111111,
             "#46039f"
            ],
            [
             0.2222222222222222,
             "#7201a8"
            ],
            [
             0.3333333333333333,
             "#9c179e"
            ],
            [
             0.4444444444444444,
             "#bd3786"
            ],
            [
             0.5555555555555556,
             "#d8576b"
            ],
            [
             0.6666666666666666,
             "#ed7953"
            ],
            [
             0.7777777777777778,
             "#fb9f3a"
            ],
            [
             0.8888888888888888,
             "#fdca26"
            ],
            [
             1,
             "#f0f921"
            ]
           ]
          },
          "colorway": [
           "#636efa",
           "#EF553B",
           "#00cc96",
           "#ab63fa",
           "#FFA15A",
           "#19d3f3",
           "#FF6692",
           "#B6E880",
           "#FF97FF",
           "#FECB52"
          ],
          "font": {
           "color": "#2a3f5f"
          },
          "geo": {
           "bgcolor": "white",
           "lakecolor": "white",
           "landcolor": "#E5ECF6",
           "showlakes": true,
           "showland": true,
           "subunitcolor": "white"
          },
          "hoverlabel": {
           "align": "left"
          },
          "hovermode": "closest",
          "mapbox": {
           "style": "light"
          },
          "paper_bgcolor": "white",
          "plot_bgcolor": "#E5ECF6",
          "polar": {
           "angularaxis": {
            "gridcolor": "white",
            "linecolor": "white",
            "ticks": ""
           },
           "bgcolor": "#E5ECF6",
           "radialaxis": {
            "gridcolor": "white",
            "linecolor": "white",
            "ticks": ""
           }
          },
          "scene": {
           "xaxis": {
            "backgroundcolor": "#E5ECF6",
            "gridcolor": "white",
            "gridwidth": 2,
            "linecolor": "white",
            "showbackground": true,
            "ticks": "",
            "zerolinecolor": "white"
           },
           "yaxis": {
            "backgroundcolor": "#E5ECF6",
            "gridcolor": "white",
            "gridwidth": 2,
            "linecolor": "white",
            "showbackground": true,
            "ticks": "",
            "zerolinecolor": "white"
           },
           "zaxis": {
            "backgroundcolor": "#E5ECF6",
            "gridcolor": "white",
            "gridwidth": 2,
            "linecolor": "white",
            "showbackground": true,
            "ticks": "",
            "zerolinecolor": "white"
           }
          },
          "shapedefaults": {
           "line": {
            "color": "#2a3f5f"
           }
          },
          "ternary": {
           "aaxis": {
            "gridcolor": "white",
            "linecolor": "white",
            "ticks": ""
           },
           "baxis": {
            "gridcolor": "white",
            "linecolor": "white",
            "ticks": ""
           },
           "bgcolor": "#E5ECF6",
           "caxis": {
            "gridcolor": "white",
            "linecolor": "white",
            "ticks": ""
           }
          },
          "title": {
           "x": 0.05
          },
          "xaxis": {
           "automargin": true,
           "gridcolor": "white",
           "linecolor": "white",
           "ticks": "",
           "title": {
            "standoff": 15
           },
           "zerolinecolor": "white",
           "zerolinewidth": 2
          },
          "yaxis": {
           "automargin": true,
           "gridcolor": "white",
           "linecolor": "white",
           "ticks": "",
           "title": {
            "standoff": 15
           },
           "zerolinecolor": "white",
           "zerolinewidth": 2
          }
         }
        },
        "xaxis": {
         "anchor": "y",
         "domain": [
          0,
          1
         ],
         "title": {
          "text": "variable"
         }
        },
        "yaxis": {
         "anchor": "x",
         "domain": [
          0,
          1
         ],
         "title": {
          "text": "value"
         }
        }
       }
      }
     },
     "metadata": {},
     "output_type": "display_data"
    }
   ],
   "source": [
    "# numerical columns only\n",
    "# IQR, LOF, isolation forest, autoencoder 등 다양한 방법이 있지만 본 예제에서는 IQR 로 체크\n",
    "\n",
    "import plotly.express as px\n",
    "\n",
    "fig = px.box(df[num_col])\n",
    "fig.show()\n"
   ]
  },
  {
   "cell_type": "markdown",
   "metadata": {},
   "source": [
    "##### 5. 논리적으로 (domain knowledge 상) 유효하지 않은 값 체크"
   ]
  },
  {
   "cell_type": "code",
   "execution_count": 36,
   "metadata": {},
   "outputs": [],
   "source": [
    "# 예를 들어, varaible27 값의 정합성 체크 후 기준에 맞지 않는 row 삭제는 아래와 같이 진행\n",
    "# 가정: variable27 의 범위는 -1 이상 45 이하, null 값이 오면 안됨 \n",
    "\n",
    "# Check Range\n",
    "is_out_of_range = (df['variable27'] < -1) | (df['variable27'] > 45)\n",
    "\n",
    "# Check for NaN values\n",
    "is_nan = df['variable27'].isna()\n",
    "\n",
    "# Check for infinite values\n",
    "is_inf = np.isinf(df['variable27'])\n",
    "\n",
    "# Check for valid values (not NaN or infinite)\n",
    "is_valid = ~is_nan & ~is_inf & ~is_out_of_range\n",
    "\n",
    "# Filter the DataFrame to get valid rows\n",
    "valid_data = df[is_valid]"
   ]
  },
  {
   "cell_type": "markdown",
   "metadata": {},
   "source": [
    "##### 6. Distribution of variables\n",
    "#### 6.1. Univariate (변수가 1개인경우) 분포 시각화"
   ]
  },
  {
   "cell_type": "code",
   "execution_count": 40,
   "metadata": {},
   "outputs": [
    {
     "data": {
      "application/vnd.plotly.v1+json": {
       "config": {
        "plotlyServerURL": "https://plot.ly"
       },
       "data": [
        {
         "alignmentgroup": "True",
         "bingroup": "x",
         "hovertemplate": "variable27=%{x}<br>count=%{y}<extra></extra>",
         "legendgroup": "",
         "marker": {
          "color": "#636efa",
          "pattern": {
           "shape": ""
          }
         },
         "name": "",
         "nbinsx": 10,
         "offsetgroup": "",
         "orientation": "v",
         "showlegend": false,
         "type": "histogram",
         "x": [
          23.75859897,
          -1,
          35.20057537,
          0.999999974,
          -1,
          -1,
          -1,
          -1,
          27.92638319,
          -1
         ],
         "xaxis": "x",
         "yaxis": "y"
        }
       ],
       "layout": {
        "barmode": "relative",
        "legend": {
         "tracegroupgap": 0
        },
        "margin": {
         "t": 60
        },
        "template": {
         "data": {
          "bar": [
           {
            "error_x": {
             "color": "#2a3f5f"
            },
            "error_y": {
             "color": "#2a3f5f"
            },
            "marker": {
             "line": {
              "color": "#E5ECF6",
              "width": 0.5
             },
             "pattern": {
              "fillmode": "overlay",
              "size": 10,
              "solidity": 0.2
             }
            },
            "type": "bar"
           }
          ],
          "barpolar": [
           {
            "marker": {
             "line": {
              "color": "#E5ECF6",
              "width": 0.5
             },
             "pattern": {
              "fillmode": "overlay",
              "size": 10,
              "solidity": 0.2
             }
            },
            "type": "barpolar"
           }
          ],
          "carpet": [
           {
            "aaxis": {
             "endlinecolor": "#2a3f5f",
             "gridcolor": "white",
             "linecolor": "white",
             "minorgridcolor": "white",
             "startlinecolor": "#2a3f5f"
            },
            "baxis": {
             "endlinecolor": "#2a3f5f",
             "gridcolor": "white",
             "linecolor": "white",
             "minorgridcolor": "white",
             "startlinecolor": "#2a3f5f"
            },
            "type": "carpet"
           }
          ],
          "choropleth": [
           {
            "colorbar": {
             "outlinewidth": 0,
             "ticks": ""
            },
            "type": "choropleth"
           }
          ],
          "contour": [
           {
            "colorbar": {
             "outlinewidth": 0,
             "ticks": ""
            },
            "colorscale": [
             [
              0,
              "#0d0887"
             ],
             [
              0.1111111111111111,
              "#46039f"
             ],
             [
              0.2222222222222222,
              "#7201a8"
             ],
             [
              0.3333333333333333,
              "#9c179e"
             ],
             [
              0.4444444444444444,
              "#bd3786"
             ],
             [
              0.5555555555555556,
              "#d8576b"
             ],
             [
              0.6666666666666666,
              "#ed7953"
             ],
             [
              0.7777777777777778,
              "#fb9f3a"
             ],
             [
              0.8888888888888888,
              "#fdca26"
             ],
             [
              1,
              "#f0f921"
             ]
            ],
            "type": "contour"
           }
          ],
          "contourcarpet": [
           {
            "colorbar": {
             "outlinewidth": 0,
             "ticks": ""
            },
            "type": "contourcarpet"
           }
          ],
          "heatmap": [
           {
            "colorbar": {
             "outlinewidth": 0,
             "ticks": ""
            },
            "colorscale": [
             [
              0,
              "#0d0887"
             ],
             [
              0.1111111111111111,
              "#46039f"
             ],
             [
              0.2222222222222222,
              "#7201a8"
             ],
             [
              0.3333333333333333,
              "#9c179e"
             ],
             [
              0.4444444444444444,
              "#bd3786"
             ],
             [
              0.5555555555555556,
              "#d8576b"
             ],
             [
              0.6666666666666666,
              "#ed7953"
             ],
             [
              0.7777777777777778,
              "#fb9f3a"
             ],
             [
              0.8888888888888888,
              "#fdca26"
             ],
             [
              1,
              "#f0f921"
             ]
            ],
            "type": "heatmap"
           }
          ],
          "heatmapgl": [
           {
            "colorbar": {
             "outlinewidth": 0,
             "ticks": ""
            },
            "colorscale": [
             [
              0,
              "#0d0887"
             ],
             [
              0.1111111111111111,
              "#46039f"
             ],
             [
              0.2222222222222222,
              "#7201a8"
             ],
             [
              0.3333333333333333,
              "#9c179e"
             ],
             [
              0.4444444444444444,
              "#bd3786"
             ],
             [
              0.5555555555555556,
              "#d8576b"
             ],
             [
              0.6666666666666666,
              "#ed7953"
             ],
             [
              0.7777777777777778,
              "#fb9f3a"
             ],
             [
              0.8888888888888888,
              "#fdca26"
             ],
             [
              1,
              "#f0f921"
             ]
            ],
            "type": "heatmapgl"
           }
          ],
          "histogram": [
           {
            "marker": {
             "pattern": {
              "fillmode": "overlay",
              "size": 10,
              "solidity": 0.2
             }
            },
            "type": "histogram"
           }
          ],
          "histogram2d": [
           {
            "colorbar": {
             "outlinewidth": 0,
             "ticks": ""
            },
            "colorscale": [
             [
              0,
              "#0d0887"
             ],
             [
              0.1111111111111111,
              "#46039f"
             ],
             [
              0.2222222222222222,
              "#7201a8"
             ],
             [
              0.3333333333333333,
              "#9c179e"
             ],
             [
              0.4444444444444444,
              "#bd3786"
             ],
             [
              0.5555555555555556,
              "#d8576b"
             ],
             [
              0.6666666666666666,
              "#ed7953"
             ],
             [
              0.7777777777777778,
              "#fb9f3a"
             ],
             [
              0.8888888888888888,
              "#fdca26"
             ],
             [
              1,
              "#f0f921"
             ]
            ],
            "type": "histogram2d"
           }
          ],
          "histogram2dcontour": [
           {
            "colorbar": {
             "outlinewidth": 0,
             "ticks": ""
            },
            "colorscale": [
             [
              0,
              "#0d0887"
             ],
             [
              0.1111111111111111,
              "#46039f"
             ],
             [
              0.2222222222222222,
              "#7201a8"
             ],
             [
              0.3333333333333333,
              "#9c179e"
             ],
             [
              0.4444444444444444,
              "#bd3786"
             ],
             [
              0.5555555555555556,
              "#d8576b"
             ],
             [
              0.6666666666666666,
              "#ed7953"
             ],
             [
              0.7777777777777778,
              "#fb9f3a"
             ],
             [
              0.8888888888888888,
              "#fdca26"
             ],
             [
              1,
              "#f0f921"
             ]
            ],
            "type": "histogram2dcontour"
           }
          ],
          "mesh3d": [
           {
            "colorbar": {
             "outlinewidth": 0,
             "ticks": ""
            },
            "type": "mesh3d"
           }
          ],
          "parcoords": [
           {
            "line": {
             "colorbar": {
              "outlinewidth": 0,
              "ticks": ""
             }
            },
            "type": "parcoords"
           }
          ],
          "pie": [
           {
            "automargin": true,
            "type": "pie"
           }
          ],
          "scatter": [
           {
            "marker": {
             "colorbar": {
              "outlinewidth": 0,
              "ticks": ""
             }
            },
            "type": "scatter"
           }
          ],
          "scatter3d": [
           {
            "line": {
             "colorbar": {
              "outlinewidth": 0,
              "ticks": ""
             }
            },
            "marker": {
             "colorbar": {
              "outlinewidth": 0,
              "ticks": ""
             }
            },
            "type": "scatter3d"
           }
          ],
          "scattercarpet": [
           {
            "marker": {
             "colorbar": {
              "outlinewidth": 0,
              "ticks": ""
             }
            },
            "type": "scattercarpet"
           }
          ],
          "scattergeo": [
           {
            "marker": {
             "colorbar": {
              "outlinewidth": 0,
              "ticks": ""
             }
            },
            "type": "scattergeo"
           }
          ],
          "scattergl": [
           {
            "marker": {
             "colorbar": {
              "outlinewidth": 0,
              "ticks": ""
             }
            },
            "type": "scattergl"
           }
          ],
          "scattermapbox": [
           {
            "marker": {
             "colorbar": {
              "outlinewidth": 0,
              "ticks": ""
             }
            },
            "type": "scattermapbox"
           }
          ],
          "scatterpolar": [
           {
            "marker": {
             "colorbar": {
              "outlinewidth": 0,
              "ticks": ""
             }
            },
            "type": "scatterpolar"
           }
          ],
          "scatterpolargl": [
           {
            "marker": {
             "colorbar": {
              "outlinewidth": 0,
              "ticks": ""
             }
            },
            "type": "scatterpolargl"
           }
          ],
          "scatterternary": [
           {
            "marker": {
             "colorbar": {
              "outlinewidth": 0,
              "ticks": ""
             }
            },
            "type": "scatterternary"
           }
          ],
          "surface": [
           {
            "colorbar": {
             "outlinewidth": 0,
             "ticks": ""
            },
            "colorscale": [
             [
              0,
              "#0d0887"
             ],
             [
              0.1111111111111111,
              "#46039f"
             ],
             [
              0.2222222222222222,
              "#7201a8"
             ],
             [
              0.3333333333333333,
              "#9c179e"
             ],
             [
              0.4444444444444444,
              "#bd3786"
             ],
             [
              0.5555555555555556,
              "#d8576b"
             ],
             [
              0.6666666666666666,
              "#ed7953"
             ],
             [
              0.7777777777777778,
              "#fb9f3a"
             ],
             [
              0.8888888888888888,
              "#fdca26"
             ],
             [
              1,
              "#f0f921"
             ]
            ],
            "type": "surface"
           }
          ],
          "table": [
           {
            "cells": {
             "fill": {
              "color": "#EBF0F8"
             },
             "line": {
              "color": "white"
             }
            },
            "header": {
             "fill": {
              "color": "#C8D4E3"
             },
             "line": {
              "color": "white"
             }
            },
            "type": "table"
           }
          ]
         },
         "layout": {
          "annotationdefaults": {
           "arrowcolor": "#2a3f5f",
           "arrowhead": 0,
           "arrowwidth": 1
          },
          "autotypenumbers": "strict",
          "coloraxis": {
           "colorbar": {
            "outlinewidth": 0,
            "ticks": ""
           }
          },
          "colorscale": {
           "diverging": [
            [
             0,
             "#8e0152"
            ],
            [
             0.1,
             "#c51b7d"
            ],
            [
             0.2,
             "#de77ae"
            ],
            [
             0.3,
             "#f1b6da"
            ],
            [
             0.4,
             "#fde0ef"
            ],
            [
             0.5,
             "#f7f7f7"
            ],
            [
             0.6,
             "#e6f5d0"
            ],
            [
             0.7,
             "#b8e186"
            ],
            [
             0.8,
             "#7fbc41"
            ],
            [
             0.9,
             "#4d9221"
            ],
            [
             1,
             "#276419"
            ]
           ],
           "sequential": [
            [
             0,
             "#0d0887"
            ],
            [
             0.1111111111111111,
             "#46039f"
            ],
            [
             0.2222222222222222,
             "#7201a8"
            ],
            [
             0.3333333333333333,
             "#9c179e"
            ],
            [
             0.4444444444444444,
             "#bd3786"
            ],
            [
             0.5555555555555556,
             "#d8576b"
            ],
            [
             0.6666666666666666,
             "#ed7953"
            ],
            [
             0.7777777777777778,
             "#fb9f3a"
            ],
            [
             0.8888888888888888,
             "#fdca26"
            ],
            [
             1,
             "#f0f921"
            ]
           ],
           "sequentialminus": [
            [
             0,
             "#0d0887"
            ],
            [
             0.1111111111111111,
             "#46039f"
            ],
            [
             0.2222222222222222,
             "#7201a8"
            ],
            [
             0.3333333333333333,
             "#9c179e"
            ],
            [
             0.4444444444444444,
             "#bd3786"
            ],
            [
             0.5555555555555556,
             "#d8576b"
            ],
            [
             0.6666666666666666,
             "#ed7953"
            ],
            [
             0.7777777777777778,
             "#fb9f3a"
            ],
            [
             0.8888888888888888,
             "#fdca26"
            ],
            [
             1,
             "#f0f921"
            ]
           ]
          },
          "colorway": [
           "#636efa",
           "#EF553B",
           "#00cc96",
           "#ab63fa",
           "#FFA15A",
           "#19d3f3",
           "#FF6692",
           "#B6E880",
           "#FF97FF",
           "#FECB52"
          ],
          "font": {
           "color": "#2a3f5f"
          },
          "geo": {
           "bgcolor": "white",
           "lakecolor": "white",
           "landcolor": "#E5ECF6",
           "showlakes": true,
           "showland": true,
           "subunitcolor": "white"
          },
          "hoverlabel": {
           "align": "left"
          },
          "hovermode": "closest",
          "mapbox": {
           "style": "light"
          },
          "paper_bgcolor": "white",
          "plot_bgcolor": "#E5ECF6",
          "polar": {
           "angularaxis": {
            "gridcolor": "white",
            "linecolor": "white",
            "ticks": ""
           },
           "bgcolor": "#E5ECF6",
           "radialaxis": {
            "gridcolor": "white",
            "linecolor": "white",
            "ticks": ""
           }
          },
          "scene": {
           "xaxis": {
            "backgroundcolor": "#E5ECF6",
            "gridcolor": "white",
            "gridwidth": 2,
            "linecolor": "white",
            "showbackground": true,
            "ticks": "",
            "zerolinecolor": "white"
           },
           "yaxis": {
            "backgroundcolor": "#E5ECF6",
            "gridcolor": "white",
            "gridwidth": 2,
            "linecolor": "white",
            "showbackground": true,
            "ticks": "",
            "zerolinecolor": "white"
           },
           "zaxis": {
            "backgroundcolor": "#E5ECF6",
            "gridcolor": "white",
            "gridwidth": 2,
            "linecolor": "white",
            "showbackground": true,
            "ticks": "",
            "zerolinecolor": "white"
           }
          },
          "shapedefaults": {
           "line": {
            "color": "#2a3f5f"
           }
          },
          "ternary": {
           "aaxis": {
            "gridcolor": "white",
            "linecolor": "white",
            "ticks": ""
           },
           "baxis": {
            "gridcolor": "white",
            "linecolor": "white",
            "ticks": ""
           },
           "bgcolor": "#E5ECF6",
           "caxis": {
            "gridcolor": "white",
            "linecolor": "white",
            "ticks": ""
           }
          },
          "title": {
           "x": 0.05
          },
          "xaxis": {
           "automargin": true,
           "gridcolor": "white",
           "linecolor": "white",
           "ticks": "",
           "title": {
            "standoff": 15
           },
           "zerolinecolor": "white",
           "zerolinewidth": 2
          },
          "yaxis": {
           "automargin": true,
           "gridcolor": "white",
           "linecolor": "white",
           "ticks": "",
           "title": {
            "standoff": 15
           },
           "zerolinecolor": "white",
           "zerolinewidth": 2
          }
         }
        },
        "xaxis": {
         "anchor": "y",
         "domain": [
          0,
          1
         ],
         "title": {
          "text": "variable27"
         }
        },
        "yaxis": {
         "anchor": "x",
         "domain": [
          0,
          1
         ],
         "title": {
          "text": "count"
         }
        }
       }
      }
     },
     "metadata": {},
     "output_type": "display_data"
    }
   ],
   "source": [
    "#### Univariate (변수가 1개인 경우) 분포 시각화\n",
    "#### variable27 변수 기준으로 이의 값 별 frequency 확인\n",
    "fig = px.histogram(data_frame = df\n",
    "            ,x = 'variable27'\n",
    "            ,nbins = 10\n",
    "            )\n",
    "fig.show()"
   ]
  },
  {
   "cell_type": "markdown",
   "metadata": {},
   "source": [
    "#### bivariate (변수가 2개인 경우) 분포 시각화\n",
    "bivariate distribution\n",
    "- categorical & continuous: box plot, violin plot\n",
    "- continuous & continuous: scatter plot"
   ]
  },
  {
   "cell_type": "code",
   "execution_count": 26,
   "metadata": {},
   "outputs": [
    {
     "data": {
      "application/vnd.plotly.v1+json": {
       "config": {
        "plotlyServerURL": "https://plot.ly"
       },
       "data": [
        {
         "alignmentgroup": "True",
         "boxpoints": "all",
         "hovertemplate": "well=%{x}<br>variable27=%{y}<extra></extra>",
         "legendgroup": "",
         "marker": {
          "color": "#636efa"
         },
         "name": "",
         "notched": false,
         "offsetgroup": "",
         "orientation": "v",
         "showlegend": false,
         "type": "box",
         "x": [
          "A01",
          "A01",
          "A01",
          "A01",
          "A01",
          "A01",
          "A01",
          "A01",
          "A02",
          "A02"
         ],
         "x0": " ",
         "xaxis": "x",
         "y": [
          23.75859897,
          -1,
          35.20057537,
          0.999999974,
          -1,
          -1,
          -1,
          -1,
          27.92638319,
          -1
         ],
         "y0": " ",
         "yaxis": "y"
        }
       ],
       "layout": {
        "boxmode": "group",
        "legend": {
         "tracegroupgap": 0
        },
        "margin": {
         "t": 60
        },
        "template": {
         "data": {
          "bar": [
           {
            "error_x": {
             "color": "#2a3f5f"
            },
            "error_y": {
             "color": "#2a3f5f"
            },
            "marker": {
             "line": {
              "color": "#E5ECF6",
              "width": 0.5
             },
             "pattern": {
              "fillmode": "overlay",
              "size": 10,
              "solidity": 0.2
             }
            },
            "type": "bar"
           }
          ],
          "barpolar": [
           {
            "marker": {
             "line": {
              "color": "#E5ECF6",
              "width": 0.5
             },
             "pattern": {
              "fillmode": "overlay",
              "size": 10,
              "solidity": 0.2
             }
            },
            "type": "barpolar"
           }
          ],
          "carpet": [
           {
            "aaxis": {
             "endlinecolor": "#2a3f5f",
             "gridcolor": "white",
             "linecolor": "white",
             "minorgridcolor": "white",
             "startlinecolor": "#2a3f5f"
            },
            "baxis": {
             "endlinecolor": "#2a3f5f",
             "gridcolor": "white",
             "linecolor": "white",
             "minorgridcolor": "white",
             "startlinecolor": "#2a3f5f"
            },
            "type": "carpet"
           }
          ],
          "choropleth": [
           {
            "colorbar": {
             "outlinewidth": 0,
             "ticks": ""
            },
            "type": "choropleth"
           }
          ],
          "contour": [
           {
            "colorbar": {
             "outlinewidth": 0,
             "ticks": ""
            },
            "colorscale": [
             [
              0,
              "#0d0887"
             ],
             [
              0.1111111111111111,
              "#46039f"
             ],
             [
              0.2222222222222222,
              "#7201a8"
             ],
             [
              0.3333333333333333,
              "#9c179e"
             ],
             [
              0.4444444444444444,
              "#bd3786"
             ],
             [
              0.5555555555555556,
              "#d8576b"
             ],
             [
              0.6666666666666666,
              "#ed7953"
             ],
             [
              0.7777777777777778,
              "#fb9f3a"
             ],
             [
              0.8888888888888888,
              "#fdca26"
             ],
             [
              1,
              "#f0f921"
             ]
            ],
            "type": "contour"
           }
          ],
          "contourcarpet": [
           {
            "colorbar": {
             "outlinewidth": 0,
             "ticks": ""
            },
            "type": "contourcarpet"
           }
          ],
          "heatmap": [
           {
            "colorbar": {
             "outlinewidth": 0,
             "ticks": ""
            },
            "colorscale": [
             [
              0,
              "#0d0887"
             ],
             [
              0.1111111111111111,
              "#46039f"
             ],
             [
              0.2222222222222222,
              "#7201a8"
             ],
             [
              0.3333333333333333,
              "#9c179e"
             ],
             [
              0.4444444444444444,
              "#bd3786"
             ],
             [
              0.5555555555555556,
              "#d8576b"
             ],
             [
              0.6666666666666666,
              "#ed7953"
             ],
             [
              0.7777777777777778,
              "#fb9f3a"
             ],
             [
              0.8888888888888888,
              "#fdca26"
             ],
             [
              1,
              "#f0f921"
             ]
            ],
            "type": "heatmap"
           }
          ],
          "heatmapgl": [
           {
            "colorbar": {
             "outlinewidth": 0,
             "ticks": ""
            },
            "colorscale": [
             [
              0,
              "#0d0887"
             ],
             [
              0.1111111111111111,
              "#46039f"
             ],
             [
              0.2222222222222222,
              "#7201a8"
             ],
             [
              0.3333333333333333,
              "#9c179e"
             ],
             [
              0.4444444444444444,
              "#bd3786"
             ],
             [
              0.5555555555555556,
              "#d8576b"
             ],
             [
              0.6666666666666666,
              "#ed7953"
             ],
             [
              0.7777777777777778,
              "#fb9f3a"
             ],
             [
              0.8888888888888888,
              "#fdca26"
             ],
             [
              1,
              "#f0f921"
             ]
            ],
            "type": "heatmapgl"
           }
          ],
          "histogram": [
           {
            "marker": {
             "pattern": {
              "fillmode": "overlay",
              "size": 10,
              "solidity": 0.2
             }
            },
            "type": "histogram"
           }
          ],
          "histogram2d": [
           {
            "colorbar": {
             "outlinewidth": 0,
             "ticks": ""
            },
            "colorscale": [
             [
              0,
              "#0d0887"
             ],
             [
              0.1111111111111111,
              "#46039f"
             ],
             [
              0.2222222222222222,
              "#7201a8"
             ],
             [
              0.3333333333333333,
              "#9c179e"
             ],
             [
              0.4444444444444444,
              "#bd3786"
             ],
             [
              0.5555555555555556,
              "#d8576b"
             ],
             [
              0.6666666666666666,
              "#ed7953"
             ],
             [
              0.7777777777777778,
              "#fb9f3a"
             ],
             [
              0.8888888888888888,
              "#fdca26"
             ],
             [
              1,
              "#f0f921"
             ]
            ],
            "type": "histogram2d"
           }
          ],
          "histogram2dcontour": [
           {
            "colorbar": {
             "outlinewidth": 0,
             "ticks": ""
            },
            "colorscale": [
             [
              0,
              "#0d0887"
             ],
             [
              0.1111111111111111,
              "#46039f"
             ],
             [
              0.2222222222222222,
              "#7201a8"
             ],
             [
              0.3333333333333333,
              "#9c179e"
             ],
             [
              0.4444444444444444,
              "#bd3786"
             ],
             [
              0.5555555555555556,
              "#d8576b"
             ],
             [
              0.6666666666666666,
              "#ed7953"
             ],
             [
              0.7777777777777778,
              "#fb9f3a"
             ],
             [
              0.8888888888888888,
              "#fdca26"
             ],
             [
              1,
              "#f0f921"
             ]
            ],
            "type": "histogram2dcontour"
           }
          ],
          "mesh3d": [
           {
            "colorbar": {
             "outlinewidth": 0,
             "ticks": ""
            },
            "type": "mesh3d"
           }
          ],
          "parcoords": [
           {
            "line": {
             "colorbar": {
              "outlinewidth": 0,
              "ticks": ""
             }
            },
            "type": "parcoords"
           }
          ],
          "pie": [
           {
            "automargin": true,
            "type": "pie"
           }
          ],
          "scatter": [
           {
            "marker": {
             "colorbar": {
              "outlinewidth": 0,
              "ticks": ""
             }
            },
            "type": "scatter"
           }
          ],
          "scatter3d": [
           {
            "line": {
             "colorbar": {
              "outlinewidth": 0,
              "ticks": ""
             }
            },
            "marker": {
             "colorbar": {
              "outlinewidth": 0,
              "ticks": ""
             }
            },
            "type": "scatter3d"
           }
          ],
          "scattercarpet": [
           {
            "marker": {
             "colorbar": {
              "outlinewidth": 0,
              "ticks": ""
             }
            },
            "type": "scattercarpet"
           }
          ],
          "scattergeo": [
           {
            "marker": {
             "colorbar": {
              "outlinewidth": 0,
              "ticks": ""
             }
            },
            "type": "scattergeo"
           }
          ],
          "scattergl": [
           {
            "marker": {
             "colorbar": {
              "outlinewidth": 0,
              "ticks": ""
             }
            },
            "type": "scattergl"
           }
          ],
          "scattermapbox": [
           {
            "marker": {
             "colorbar": {
              "outlinewidth": 0,
              "ticks": ""
             }
            },
            "type": "scattermapbox"
           }
          ],
          "scatterpolar": [
           {
            "marker": {
             "colorbar": {
              "outlinewidth": 0,
              "ticks": ""
             }
            },
            "type": "scatterpolar"
           }
          ],
          "scatterpolargl": [
           {
            "marker": {
             "colorbar": {
              "outlinewidth": 0,
              "ticks": ""
             }
            },
            "type": "scatterpolargl"
           }
          ],
          "scatterternary": [
           {
            "marker": {
             "colorbar": {
              "outlinewidth": 0,
              "ticks": ""
             }
            },
            "type": "scatterternary"
           }
          ],
          "surface": [
           {
            "colorbar": {
             "outlinewidth": 0,
             "ticks": ""
            },
            "colorscale": [
             [
              0,
              "#0d0887"
             ],
             [
              0.1111111111111111,
              "#46039f"
             ],
             [
              0.2222222222222222,
              "#7201a8"
             ],
             [
              0.3333333333333333,
              "#9c179e"
             ],
             [
              0.4444444444444444,
              "#bd3786"
             ],
             [
              0.5555555555555556,
              "#d8576b"
             ],
             [
              0.6666666666666666,
              "#ed7953"
             ],
             [
              0.7777777777777778,
              "#fb9f3a"
             ],
             [
              0.8888888888888888,
              "#fdca26"
             ],
             [
              1,
              "#f0f921"
             ]
            ],
            "type": "surface"
           }
          ],
          "table": [
           {
            "cells": {
             "fill": {
              "color": "#EBF0F8"
             },
             "line": {
              "color": "white"
             }
            },
            "header": {
             "fill": {
              "color": "#C8D4E3"
             },
             "line": {
              "color": "white"
             }
            },
            "type": "table"
           }
          ]
         },
         "layout": {
          "annotationdefaults": {
           "arrowcolor": "#2a3f5f",
           "arrowhead": 0,
           "arrowwidth": 1
          },
          "autotypenumbers": "strict",
          "coloraxis": {
           "colorbar": {
            "outlinewidth": 0,
            "ticks": ""
           }
          },
          "colorscale": {
           "diverging": [
            [
             0,
             "#8e0152"
            ],
            [
             0.1,
             "#c51b7d"
            ],
            [
             0.2,
             "#de77ae"
            ],
            [
             0.3,
             "#f1b6da"
            ],
            [
             0.4,
             "#fde0ef"
            ],
            [
             0.5,
             "#f7f7f7"
            ],
            [
             0.6,
             "#e6f5d0"
            ],
            [
             0.7,
             "#b8e186"
            ],
            [
             0.8,
             "#7fbc41"
            ],
            [
             0.9,
             "#4d9221"
            ],
            [
             1,
             "#276419"
            ]
           ],
           "sequential": [
            [
             0,
             "#0d0887"
            ],
            [
             0.1111111111111111,
             "#46039f"
            ],
            [
             0.2222222222222222,
             "#7201a8"
            ],
            [
             0.3333333333333333,
             "#9c179e"
            ],
            [
             0.4444444444444444,
             "#bd3786"
            ],
            [
             0.5555555555555556,
             "#d8576b"
            ],
            [
             0.6666666666666666,
             "#ed7953"
            ],
            [
             0.7777777777777778,
             "#fb9f3a"
            ],
            [
             0.8888888888888888,
             "#fdca26"
            ],
            [
             1,
             "#f0f921"
            ]
           ],
           "sequentialminus": [
            [
             0,
             "#0d0887"
            ],
            [
             0.1111111111111111,
             "#46039f"
            ],
            [
             0.2222222222222222,
             "#7201a8"
            ],
            [
             0.3333333333333333,
             "#9c179e"
            ],
            [
             0.4444444444444444,
             "#bd3786"
            ],
            [
             0.5555555555555556,
             "#d8576b"
            ],
            [
             0.6666666666666666,
             "#ed7953"
            ],
            [
             0.7777777777777778,
             "#fb9f3a"
            ],
            [
             0.8888888888888888,
             "#fdca26"
            ],
            [
             1,
             "#f0f921"
            ]
           ]
          },
          "colorway": [
           "#636efa",
           "#EF553B",
           "#00cc96",
           "#ab63fa",
           "#FFA15A",
           "#19d3f3",
           "#FF6692",
           "#B6E880",
           "#FF97FF",
           "#FECB52"
          ],
          "font": {
           "color": "#2a3f5f"
          },
          "geo": {
           "bgcolor": "white",
           "lakecolor": "white",
           "landcolor": "#E5ECF6",
           "showlakes": true,
           "showland": true,
           "subunitcolor": "white"
          },
          "hoverlabel": {
           "align": "left"
          },
          "hovermode": "closest",
          "mapbox": {
           "style": "light"
          },
          "paper_bgcolor": "white",
          "plot_bgcolor": "#E5ECF6",
          "polar": {
           "angularaxis": {
            "gridcolor": "white",
            "linecolor": "white",
            "ticks": ""
           },
           "bgcolor": "#E5ECF6",
           "radialaxis": {
            "gridcolor": "white",
            "linecolor": "white",
            "ticks": ""
           }
          },
          "scene": {
           "xaxis": {
            "backgroundcolor": "#E5ECF6",
            "gridcolor": "white",
            "gridwidth": 2,
            "linecolor": "white",
            "showbackground": true,
            "ticks": "",
            "zerolinecolor": "white"
           },
           "yaxis": {
            "backgroundcolor": "#E5ECF6",
            "gridcolor": "white",
            "gridwidth": 2,
            "linecolor": "white",
            "showbackground": true,
            "ticks": "",
            "zerolinecolor": "white"
           },
           "zaxis": {
            "backgroundcolor": "#E5ECF6",
            "gridcolor": "white",
            "gridwidth": 2,
            "linecolor": "white",
            "showbackground": true,
            "ticks": "",
            "zerolinecolor": "white"
           }
          },
          "shapedefaults": {
           "line": {
            "color": "#2a3f5f"
           }
          },
          "ternary": {
           "aaxis": {
            "gridcolor": "white",
            "linecolor": "white",
            "ticks": ""
           },
           "baxis": {
            "gridcolor": "white",
            "linecolor": "white",
            "ticks": ""
           },
           "bgcolor": "#E5ECF6",
           "caxis": {
            "gridcolor": "white",
            "linecolor": "white",
            "ticks": ""
           }
          },
          "title": {
           "x": 0.05
          },
          "xaxis": {
           "automargin": true,
           "gridcolor": "white",
           "linecolor": "white",
           "ticks": "",
           "title": {
            "standoff": 15
           },
           "zerolinecolor": "white",
           "zerolinewidth": 2
          },
          "yaxis": {
           "automargin": true,
           "gridcolor": "white",
           "linecolor": "white",
           "ticks": "",
           "title": {
            "standoff": 15
           },
           "zerolinecolor": "white",
           "zerolinewidth": 2
          }
         }
        },
        "xaxis": {
         "anchor": "y",
         "domain": [
          0,
          1
         ],
         "title": {
          "text": "well"
         }
        },
        "yaxis": {
         "anchor": "x",
         "domain": [
          0,
          1
         ],
         "title": {
          "text": "variable27"
         }
        }
       }
      }
     },
     "metadata": {},
     "output_type": "display_data"
    }
   ],
   "source": [
    "px.box(df, x='well', y='variable27', points='all')"
   ]
  },
  {
   "cell_type": "code",
   "execution_count": 34,
   "metadata": {},
   "outputs": [
    {
     "data": {
      "application/vnd.plotly.v1+json": {
       "config": {
        "plotlyServerURL": "https://plot.ly"
       },
       "data": [
        {
         "hovertemplate": "well=A01<br>variable7=%{x}<br>variable10=%{y}<extra></extra>",
         "legendgroup": "A01",
         "marker": {
          "color": "#636efa",
          "symbol": "circle"
         },
         "mode": "markers",
         "name": "A01",
         "orientation": "v",
         "showlegend": true,
         "type": "scatter",
         "x": [
          1391.168647,
          8.08660359,
          854.8711395,
          7.115272713,
          12.42783115,
          2.240592361,
          0,
          1.096934625
         ],
         "xaxis": "x",
         "y": [
          0.155713876,
          0,
          0.124359364,
          2.352259996,
          0,
          0,
          0,
          0
         ],
         "yaxis": "y"
        },
        {
         "hovertemplate": "well=A02<br>variable7=%{x}<br>variable10=%{y}<extra></extra>",
         "legendgroup": "A02",
         "marker": {
          "color": "#EF553B",
          "symbol": "circle"
         },
         "mode": "markers",
         "name": "A02",
         "orientation": "v",
         "showlegend": true,
         "type": "scatter",
         "x": [
          1425.674604,
          5.565338263
         ],
         "xaxis": "x",
         "y": [
          0.140579406,
          0
         ],
         "yaxis": "y"
        }
       ],
       "layout": {
        "legend": {
         "title": {
          "text": "well"
         },
         "tracegroupgap": 0
        },
        "margin": {
         "t": 60
        },
        "template": {
         "data": {
          "bar": [
           {
            "error_x": {
             "color": "#2a3f5f"
            },
            "error_y": {
             "color": "#2a3f5f"
            },
            "marker": {
             "line": {
              "color": "#E5ECF6",
              "width": 0.5
             },
             "pattern": {
              "fillmode": "overlay",
              "size": 10,
              "solidity": 0.2
             }
            },
            "type": "bar"
           }
          ],
          "barpolar": [
           {
            "marker": {
             "line": {
              "color": "#E5ECF6",
              "width": 0.5
             },
             "pattern": {
              "fillmode": "overlay",
              "size": 10,
              "solidity": 0.2
             }
            },
            "type": "barpolar"
           }
          ],
          "carpet": [
           {
            "aaxis": {
             "endlinecolor": "#2a3f5f",
             "gridcolor": "white",
             "linecolor": "white",
             "minorgridcolor": "white",
             "startlinecolor": "#2a3f5f"
            },
            "baxis": {
             "endlinecolor": "#2a3f5f",
             "gridcolor": "white",
             "linecolor": "white",
             "minorgridcolor": "white",
             "startlinecolor": "#2a3f5f"
            },
            "type": "carpet"
           }
          ],
          "choropleth": [
           {
            "colorbar": {
             "outlinewidth": 0,
             "ticks": ""
            },
            "type": "choropleth"
           }
          ],
          "contour": [
           {
            "colorbar": {
             "outlinewidth": 0,
             "ticks": ""
            },
            "colorscale": [
             [
              0,
              "#0d0887"
             ],
             [
              0.1111111111111111,
              "#46039f"
             ],
             [
              0.2222222222222222,
              "#7201a8"
             ],
             [
              0.3333333333333333,
              "#9c179e"
             ],
             [
              0.4444444444444444,
              "#bd3786"
             ],
             [
              0.5555555555555556,
              "#d8576b"
             ],
             [
              0.6666666666666666,
              "#ed7953"
             ],
             [
              0.7777777777777778,
              "#fb9f3a"
             ],
             [
              0.8888888888888888,
              "#fdca26"
             ],
             [
              1,
              "#f0f921"
             ]
            ],
            "type": "contour"
           }
          ],
          "contourcarpet": [
           {
            "colorbar": {
             "outlinewidth": 0,
             "ticks": ""
            },
            "type": "contourcarpet"
           }
          ],
          "heatmap": [
           {
            "colorbar": {
             "outlinewidth": 0,
             "ticks": ""
            },
            "colorscale": [
             [
              0,
              "#0d0887"
             ],
             [
              0.1111111111111111,
              "#46039f"
             ],
             [
              0.2222222222222222,
              "#7201a8"
             ],
             [
              0.3333333333333333,
              "#9c179e"
             ],
             [
              0.4444444444444444,
              "#bd3786"
             ],
             [
              0.5555555555555556,
              "#d8576b"
             ],
             [
              0.6666666666666666,
              "#ed7953"
             ],
             [
              0.7777777777777778,
              "#fb9f3a"
             ],
             [
              0.8888888888888888,
              "#fdca26"
             ],
             [
              1,
              "#f0f921"
             ]
            ],
            "type": "heatmap"
           }
          ],
          "heatmapgl": [
           {
            "colorbar": {
             "outlinewidth": 0,
             "ticks": ""
            },
            "colorscale": [
             [
              0,
              "#0d0887"
             ],
             [
              0.1111111111111111,
              "#46039f"
             ],
             [
              0.2222222222222222,
              "#7201a8"
             ],
             [
              0.3333333333333333,
              "#9c179e"
             ],
             [
              0.4444444444444444,
              "#bd3786"
             ],
             [
              0.5555555555555556,
              "#d8576b"
             ],
             [
              0.6666666666666666,
              "#ed7953"
             ],
             [
              0.7777777777777778,
              "#fb9f3a"
             ],
             [
              0.8888888888888888,
              "#fdca26"
             ],
             [
              1,
              "#f0f921"
             ]
            ],
            "type": "heatmapgl"
           }
          ],
          "histogram": [
           {
            "marker": {
             "pattern": {
              "fillmode": "overlay",
              "size": 10,
              "solidity": 0.2
             }
            },
            "type": "histogram"
           }
          ],
          "histogram2d": [
           {
            "colorbar": {
             "outlinewidth": 0,
             "ticks": ""
            },
            "colorscale": [
             [
              0,
              "#0d0887"
             ],
             [
              0.1111111111111111,
              "#46039f"
             ],
             [
              0.2222222222222222,
              "#7201a8"
             ],
             [
              0.3333333333333333,
              "#9c179e"
             ],
             [
              0.4444444444444444,
              "#bd3786"
             ],
             [
              0.5555555555555556,
              "#d8576b"
             ],
             [
              0.6666666666666666,
              "#ed7953"
             ],
             [
              0.7777777777777778,
              "#fb9f3a"
             ],
             [
              0.8888888888888888,
              "#fdca26"
             ],
             [
              1,
              "#f0f921"
             ]
            ],
            "type": "histogram2d"
           }
          ],
          "histogram2dcontour": [
           {
            "colorbar": {
             "outlinewidth": 0,
             "ticks": ""
            },
            "colorscale": [
             [
              0,
              "#0d0887"
             ],
             [
              0.1111111111111111,
              "#46039f"
             ],
             [
              0.2222222222222222,
              "#7201a8"
             ],
             [
              0.3333333333333333,
              "#9c179e"
             ],
             [
              0.4444444444444444,
              "#bd3786"
             ],
             [
              0.5555555555555556,
              "#d8576b"
             ],
             [
              0.6666666666666666,
              "#ed7953"
             ],
             [
              0.7777777777777778,
              "#fb9f3a"
             ],
             [
              0.8888888888888888,
              "#fdca26"
             ],
             [
              1,
              "#f0f921"
             ]
            ],
            "type": "histogram2dcontour"
           }
          ],
          "mesh3d": [
           {
            "colorbar": {
             "outlinewidth": 0,
             "ticks": ""
            },
            "type": "mesh3d"
           }
          ],
          "parcoords": [
           {
            "line": {
             "colorbar": {
              "outlinewidth": 0,
              "ticks": ""
             }
            },
            "type": "parcoords"
           }
          ],
          "pie": [
           {
            "automargin": true,
            "type": "pie"
           }
          ],
          "scatter": [
           {
            "marker": {
             "colorbar": {
              "outlinewidth": 0,
              "ticks": ""
             }
            },
            "type": "scatter"
           }
          ],
          "scatter3d": [
           {
            "line": {
             "colorbar": {
              "outlinewidth": 0,
              "ticks": ""
             }
            },
            "marker": {
             "colorbar": {
              "outlinewidth": 0,
              "ticks": ""
             }
            },
            "type": "scatter3d"
           }
          ],
          "scattercarpet": [
           {
            "marker": {
             "colorbar": {
              "outlinewidth": 0,
              "ticks": ""
             }
            },
            "type": "scattercarpet"
           }
          ],
          "scattergeo": [
           {
            "marker": {
             "colorbar": {
              "outlinewidth": 0,
              "ticks": ""
             }
            },
            "type": "scattergeo"
           }
          ],
          "scattergl": [
           {
            "marker": {
             "colorbar": {
              "outlinewidth": 0,
              "ticks": ""
             }
            },
            "type": "scattergl"
           }
          ],
          "scattermapbox": [
           {
            "marker": {
             "colorbar": {
              "outlinewidth": 0,
              "ticks": ""
             }
            },
            "type": "scattermapbox"
           }
          ],
          "scatterpolar": [
           {
            "marker": {
             "colorbar": {
              "outlinewidth": 0,
              "ticks": ""
             }
            },
            "type": "scatterpolar"
           }
          ],
          "scatterpolargl": [
           {
            "marker": {
             "colorbar": {
              "outlinewidth": 0,
              "ticks": ""
             }
            },
            "type": "scatterpolargl"
           }
          ],
          "scatterternary": [
           {
            "marker": {
             "colorbar": {
              "outlinewidth": 0,
              "ticks": ""
             }
            },
            "type": "scatterternary"
           }
          ],
          "surface": [
           {
            "colorbar": {
             "outlinewidth": 0,
             "ticks": ""
            },
            "colorscale": [
             [
              0,
              "#0d0887"
             ],
             [
              0.1111111111111111,
              "#46039f"
             ],
             [
              0.2222222222222222,
              "#7201a8"
             ],
             [
              0.3333333333333333,
              "#9c179e"
             ],
             [
              0.4444444444444444,
              "#bd3786"
             ],
             [
              0.5555555555555556,
              "#d8576b"
             ],
             [
              0.6666666666666666,
              "#ed7953"
             ],
             [
              0.7777777777777778,
              "#fb9f3a"
             ],
             [
              0.8888888888888888,
              "#fdca26"
             ],
             [
              1,
              "#f0f921"
             ]
            ],
            "type": "surface"
           }
          ],
          "table": [
           {
            "cells": {
             "fill": {
              "color": "#EBF0F8"
             },
             "line": {
              "color": "white"
             }
            },
            "header": {
             "fill": {
              "color": "#C8D4E3"
             },
             "line": {
              "color": "white"
             }
            },
            "type": "table"
           }
          ]
         },
         "layout": {
          "annotationdefaults": {
           "arrowcolor": "#2a3f5f",
           "arrowhead": 0,
           "arrowwidth": 1
          },
          "autotypenumbers": "strict",
          "coloraxis": {
           "colorbar": {
            "outlinewidth": 0,
            "ticks": ""
           }
          },
          "colorscale": {
           "diverging": [
            [
             0,
             "#8e0152"
            ],
            [
             0.1,
             "#c51b7d"
            ],
            [
             0.2,
             "#de77ae"
            ],
            [
             0.3,
             "#f1b6da"
            ],
            [
             0.4,
             "#fde0ef"
            ],
            [
             0.5,
             "#f7f7f7"
            ],
            [
             0.6,
             "#e6f5d0"
            ],
            [
             0.7,
             "#b8e186"
            ],
            [
             0.8,
             "#7fbc41"
            ],
            [
             0.9,
             "#4d9221"
            ],
            [
             1,
             "#276419"
            ]
           ],
           "sequential": [
            [
             0,
             "#0d0887"
            ],
            [
             0.1111111111111111,
             "#46039f"
            ],
            [
             0.2222222222222222,
             "#7201a8"
            ],
            [
             0.3333333333333333,
             "#9c179e"
            ],
            [
             0.4444444444444444,
             "#bd3786"
            ],
            [
             0.5555555555555556,
             "#d8576b"
            ],
            [
             0.6666666666666666,
             "#ed7953"
            ],
            [
             0.7777777777777778,
             "#fb9f3a"
            ],
            [
             0.8888888888888888,
             "#fdca26"
            ],
            [
             1,
             "#f0f921"
            ]
           ],
           "sequentialminus": [
            [
             0,
             "#0d0887"
            ],
            [
             0.1111111111111111,
             "#46039f"
            ],
            [
             0.2222222222222222,
             "#7201a8"
            ],
            [
             0.3333333333333333,
             "#9c179e"
            ],
            [
             0.4444444444444444,
             "#bd3786"
            ],
            [
             0.5555555555555556,
             "#d8576b"
            ],
            [
             0.6666666666666666,
             "#ed7953"
            ],
            [
             0.7777777777777778,
             "#fb9f3a"
            ],
            [
             0.8888888888888888,
             "#fdca26"
            ],
            [
             1,
             "#f0f921"
            ]
           ]
          },
          "colorway": [
           "#636efa",
           "#EF553B",
           "#00cc96",
           "#ab63fa",
           "#FFA15A",
           "#19d3f3",
           "#FF6692",
           "#B6E880",
           "#FF97FF",
           "#FECB52"
          ],
          "font": {
           "color": "#2a3f5f"
          },
          "geo": {
           "bgcolor": "white",
           "lakecolor": "white",
           "landcolor": "#E5ECF6",
           "showlakes": true,
           "showland": true,
           "subunitcolor": "white"
          },
          "hoverlabel": {
           "align": "left"
          },
          "hovermode": "closest",
          "mapbox": {
           "style": "light"
          },
          "paper_bgcolor": "white",
          "plot_bgcolor": "#E5ECF6",
          "polar": {
           "angularaxis": {
            "gridcolor": "white",
            "linecolor": "white",
            "ticks": ""
           },
           "bgcolor": "#E5ECF6",
           "radialaxis": {
            "gridcolor": "white",
            "linecolor": "white",
            "ticks": ""
           }
          },
          "scene": {
           "xaxis": {
            "backgroundcolor": "#E5ECF6",
            "gridcolor": "white",
            "gridwidth": 2,
            "linecolor": "white",
            "showbackground": true,
            "ticks": "",
            "zerolinecolor": "white"
           },
           "yaxis": {
            "backgroundcolor": "#E5ECF6",
            "gridcolor": "white",
            "gridwidth": 2,
            "linecolor": "white",
            "showbackground": true,
            "ticks": "",
            "zerolinecolor": "white"
           },
           "zaxis": {
            "backgroundcolor": "#E5ECF6",
            "gridcolor": "white",
            "gridwidth": 2,
            "linecolor": "white",
            "showbackground": true,
            "ticks": "",
            "zerolinecolor": "white"
           }
          },
          "shapedefaults": {
           "line": {
            "color": "#2a3f5f"
           }
          },
          "ternary": {
           "aaxis": {
            "gridcolor": "white",
            "linecolor": "white",
            "ticks": ""
           },
           "baxis": {
            "gridcolor": "white",
            "linecolor": "white",
            "ticks": ""
           },
           "bgcolor": "#E5ECF6",
           "caxis": {
            "gridcolor": "white",
            "linecolor": "white",
            "ticks": ""
           }
          },
          "title": {
           "x": 0.05
          },
          "xaxis": {
           "automargin": true,
           "gridcolor": "white",
           "linecolor": "white",
           "ticks": "",
           "title": {
            "standoff": 15
           },
           "zerolinecolor": "white",
           "zerolinewidth": 2
          },
          "yaxis": {
           "automargin": true,
           "gridcolor": "white",
           "linecolor": "white",
           "ticks": "",
           "title": {
            "standoff": 15
           },
           "zerolinecolor": "white",
           "zerolinewidth": 2
          }
         }
        },
        "xaxis": {
         "anchor": "y",
         "domain": [
          0,
          1
         ],
         "title": {
          "text": "variable7"
         }
        },
        "yaxis": {
         "anchor": "x",
         "domain": [
          0,
          1
         ],
         "title": {
          "text": "variable10"
         }
        }
       }
      }
     },
     "metadata": {},
     "output_type": "display_data"
    }
   ],
   "source": [
    "px.scatter(df, x= 'variable7', y='variable10', color='well')"
   ]
  },
  {
   "cell_type": "code",
   "execution_count": null,
   "metadata": {},
   "outputs": [],
   "source": []
  }
 ],
 "metadata": {
  "kernelspec": {
   "display_name": "Python 3 (ipykernel)",
   "language": "python",
   "name": "python3"
  },
  "language_info": {
   "codemirror_mode": {
    "name": "ipython",
    "version": 3
   },
   "file_extension": ".py",
   "mimetype": "text/x-python",
   "name": "python",
   "nbconvert_exporter": "python",
   "pygments_lexer": "ipython3",
   "version": "3.9.12"
  }
 },
 "nbformat": 4,
 "nbformat_minor": 4
}
